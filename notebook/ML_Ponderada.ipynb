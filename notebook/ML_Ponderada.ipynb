{
  "nbformat": 4,
  "nbformat_minor": 0,
  "metadata": {
    "colab": {
      "provenance": []
    },
    "kernelspec": {
      "name": "python3",
      "display_name": "Python 3"
    },
    "language_info": {
      "name": "python"
    },
    "widgets": {
      "application/vnd.jupyter.widget-state+json": {
        "369df629732f42159346f490a078e1aa": {
          "model_module": "@jupyter-widgets/controls",
          "model_name": "HBoxModel",
          "model_module_version": "1.5.0",
          "state": {
            "_dom_classes": [],
            "_model_module": "@jupyter-widgets/controls",
            "_model_module_version": "1.5.0",
            "_model_name": "HBoxModel",
            "_view_count": null,
            "_view_module": "@jupyter-widgets/controls",
            "_view_module_version": "1.5.0",
            "_view_name": "HBoxView",
            "box_style": "",
            "children": [
              "IPY_MODEL_e4fa6dd936084323a7fce6bb4fd79d69",
              "IPY_MODEL_01516cecbbd147a591f516f2ec8eeb9c",
              "IPY_MODEL_80222e1a3bce4d37bc31553e955c62aa"
            ],
            "layout": "IPY_MODEL_9502361a8bd3454783c40fe4a8cecca7"
          }
        },
        "e4fa6dd936084323a7fce6bb4fd79d69": {
          "model_module": "@jupyter-widgets/controls",
          "model_name": "HTMLModel",
          "model_module_version": "1.5.0",
          "state": {
            "_dom_classes": [],
            "_model_module": "@jupyter-widgets/controls",
            "_model_module_version": "1.5.0",
            "_model_name": "HTMLModel",
            "_view_count": null,
            "_view_module": "@jupyter-widgets/controls",
            "_view_module_version": "1.5.0",
            "_view_name": "HTMLView",
            "description": "",
            "description_tooltip": null,
            "layout": "IPY_MODEL_a4ebc109157d450fbd08924e3e9a1b23",
            "placeholder": "​",
            "style": "IPY_MODEL_b5b7101d4aff44acabfff4c8b7d8f1a9",
            "value": "Processing: 100%"
          }
        },
        "01516cecbbd147a591f516f2ec8eeb9c": {
          "model_module": "@jupyter-widgets/controls",
          "model_name": "FloatProgressModel",
          "model_module_version": "1.5.0",
          "state": {
            "_dom_classes": [],
            "_model_module": "@jupyter-widgets/controls",
            "_model_module_version": "1.5.0",
            "_model_name": "FloatProgressModel",
            "_view_count": null,
            "_view_module": "@jupyter-widgets/controls",
            "_view_module_version": "1.5.0",
            "_view_name": "ProgressView",
            "bar_style": "",
            "description": "",
            "description_tooltip": null,
            "layout": "IPY_MODEL_63a775cec8dc4a35af25efd4ac2c0fa9",
            "max": 85,
            "min": 0,
            "orientation": "horizontal",
            "style": "IPY_MODEL_11a2235e0cdf4782a282e5eca69eccbc",
            "value": 85
          }
        },
        "80222e1a3bce4d37bc31553e955c62aa": {
          "model_module": "@jupyter-widgets/controls",
          "model_name": "HTMLModel",
          "model_module_version": "1.5.0",
          "state": {
            "_dom_classes": [],
            "_model_module": "@jupyter-widgets/controls",
            "_model_module_version": "1.5.0",
            "_model_name": "HTMLModel",
            "_view_count": null,
            "_view_module": "@jupyter-widgets/controls",
            "_view_module_version": "1.5.0",
            "_view_name": "HTMLView",
            "description": "",
            "description_tooltip": null,
            "layout": "IPY_MODEL_d14dbc6f90c7421babde177271a72e05",
            "placeholder": "​",
            "style": "IPY_MODEL_e595fef8ea8b49d7b789b4f43ad46eba",
            "value": " 85/85 [00:44&lt;00:00,  1.16it/s]"
          }
        },
        "9502361a8bd3454783c40fe4a8cecca7": {
          "model_module": "@jupyter-widgets/base",
          "model_name": "LayoutModel",
          "model_module_version": "1.2.0",
          "state": {
            "_model_module": "@jupyter-widgets/base",
            "_model_module_version": "1.2.0",
            "_model_name": "LayoutModel",
            "_view_count": null,
            "_view_module": "@jupyter-widgets/base",
            "_view_module_version": "1.2.0",
            "_view_name": "LayoutView",
            "align_content": null,
            "align_items": null,
            "align_self": null,
            "border": null,
            "bottom": null,
            "display": null,
            "flex": null,
            "flex_flow": null,
            "grid_area": null,
            "grid_auto_columns": null,
            "grid_auto_flow": null,
            "grid_auto_rows": null,
            "grid_column": null,
            "grid_gap": null,
            "grid_row": null,
            "grid_template_areas": null,
            "grid_template_columns": null,
            "grid_template_rows": null,
            "height": null,
            "justify_content": null,
            "justify_items": null,
            "left": null,
            "margin": null,
            "max_height": null,
            "max_width": null,
            "min_height": null,
            "min_width": null,
            "object_fit": null,
            "object_position": null,
            "order": null,
            "overflow": null,
            "overflow_x": null,
            "overflow_y": null,
            "padding": null,
            "right": null,
            "top": null,
            "visibility": "hidden",
            "width": null
          }
        },
        "a4ebc109157d450fbd08924e3e9a1b23": {
          "model_module": "@jupyter-widgets/base",
          "model_name": "LayoutModel",
          "model_module_version": "1.2.0",
          "state": {
            "_model_module": "@jupyter-widgets/base",
            "_model_module_version": "1.2.0",
            "_model_name": "LayoutModel",
            "_view_count": null,
            "_view_module": "@jupyter-widgets/base",
            "_view_module_version": "1.2.0",
            "_view_name": "LayoutView",
            "align_content": null,
            "align_items": null,
            "align_self": null,
            "border": null,
            "bottom": null,
            "display": null,
            "flex": null,
            "flex_flow": null,
            "grid_area": null,
            "grid_auto_columns": null,
            "grid_auto_flow": null,
            "grid_auto_rows": null,
            "grid_column": null,
            "grid_gap": null,
            "grid_row": null,
            "grid_template_areas": null,
            "grid_template_columns": null,
            "grid_template_rows": null,
            "height": null,
            "justify_content": null,
            "justify_items": null,
            "left": null,
            "margin": null,
            "max_height": null,
            "max_width": null,
            "min_height": null,
            "min_width": null,
            "object_fit": null,
            "object_position": null,
            "order": null,
            "overflow": null,
            "overflow_x": null,
            "overflow_y": null,
            "padding": null,
            "right": null,
            "top": null,
            "visibility": null,
            "width": null
          }
        },
        "b5b7101d4aff44acabfff4c8b7d8f1a9": {
          "model_module": "@jupyter-widgets/controls",
          "model_name": "DescriptionStyleModel",
          "model_module_version": "1.5.0",
          "state": {
            "_model_module": "@jupyter-widgets/controls",
            "_model_module_version": "1.5.0",
            "_model_name": "DescriptionStyleModel",
            "_view_count": null,
            "_view_module": "@jupyter-widgets/base",
            "_view_module_version": "1.2.0",
            "_view_name": "StyleView",
            "description_width": ""
          }
        },
        "63a775cec8dc4a35af25efd4ac2c0fa9": {
          "model_module": "@jupyter-widgets/base",
          "model_name": "LayoutModel",
          "model_module_version": "1.2.0",
          "state": {
            "_model_module": "@jupyter-widgets/base",
            "_model_module_version": "1.2.0",
            "_model_name": "LayoutModel",
            "_view_count": null,
            "_view_module": "@jupyter-widgets/base",
            "_view_module_version": "1.2.0",
            "_view_name": "LayoutView",
            "align_content": null,
            "align_items": null,
            "align_self": null,
            "border": null,
            "bottom": null,
            "display": null,
            "flex": null,
            "flex_flow": null,
            "grid_area": null,
            "grid_auto_columns": null,
            "grid_auto_flow": null,
            "grid_auto_rows": null,
            "grid_column": null,
            "grid_gap": null,
            "grid_row": null,
            "grid_template_areas": null,
            "grid_template_columns": null,
            "grid_template_rows": null,
            "height": null,
            "justify_content": null,
            "justify_items": null,
            "left": null,
            "margin": null,
            "max_height": null,
            "max_width": null,
            "min_height": null,
            "min_width": null,
            "object_fit": null,
            "object_position": null,
            "order": null,
            "overflow": null,
            "overflow_x": null,
            "overflow_y": null,
            "padding": null,
            "right": null,
            "top": null,
            "visibility": null,
            "width": null
          }
        },
        "11a2235e0cdf4782a282e5eca69eccbc": {
          "model_module": "@jupyter-widgets/controls",
          "model_name": "ProgressStyleModel",
          "model_module_version": "1.5.0",
          "state": {
            "_model_module": "@jupyter-widgets/controls",
            "_model_module_version": "1.5.0",
            "_model_name": "ProgressStyleModel",
            "_view_count": null,
            "_view_module": "@jupyter-widgets/base",
            "_view_module_version": "1.2.0",
            "_view_name": "StyleView",
            "bar_color": null,
            "description_width": ""
          }
        },
        "d14dbc6f90c7421babde177271a72e05": {
          "model_module": "@jupyter-widgets/base",
          "model_name": "LayoutModel",
          "model_module_version": "1.2.0",
          "state": {
            "_model_module": "@jupyter-widgets/base",
            "_model_module_version": "1.2.0",
            "_model_name": "LayoutModel",
            "_view_count": null,
            "_view_module": "@jupyter-widgets/base",
            "_view_module_version": "1.2.0",
            "_view_name": "LayoutView",
            "align_content": null,
            "align_items": null,
            "align_self": null,
            "border": null,
            "bottom": null,
            "display": null,
            "flex": null,
            "flex_flow": null,
            "grid_area": null,
            "grid_auto_columns": null,
            "grid_auto_flow": null,
            "grid_auto_rows": null,
            "grid_column": null,
            "grid_gap": null,
            "grid_row": null,
            "grid_template_areas": null,
            "grid_template_columns": null,
            "grid_template_rows": null,
            "height": null,
            "justify_content": null,
            "justify_items": null,
            "left": null,
            "margin": null,
            "max_height": null,
            "max_width": null,
            "min_height": null,
            "min_width": null,
            "object_fit": null,
            "object_position": null,
            "order": null,
            "overflow": null,
            "overflow_x": null,
            "overflow_y": null,
            "padding": null,
            "right": null,
            "top": null,
            "visibility": null,
            "width": null
          }
        },
        "e595fef8ea8b49d7b789b4f43ad46eba": {
          "model_module": "@jupyter-widgets/controls",
          "model_name": "DescriptionStyleModel",
          "model_module_version": "1.5.0",
          "state": {
            "_model_module": "@jupyter-widgets/controls",
            "_model_module_version": "1.5.0",
            "_model_name": "DescriptionStyleModel",
            "_view_count": null,
            "_view_module": "@jupyter-widgets/base",
            "_view_module_version": "1.2.0",
            "_view_name": "StyleView",
            "description_width": ""
          }
        },
        "3155c2a5671e44248b9da61071084bf1": {
          "model_module": "@jupyter-widgets/controls",
          "model_name": "VBoxModel",
          "model_module_version": "1.5.0",
          "state": {
            "_dom_classes": [
              "widget-interact"
            ],
            "_model_module": "@jupyter-widgets/controls",
            "_model_module_version": "1.5.0",
            "_model_name": "VBoxModel",
            "_view_count": null,
            "_view_module": "@jupyter-widgets/controls",
            "_view_module_version": "1.5.0",
            "_view_name": "VBoxView",
            "box_style": "",
            "children": [
              "IPY_MODEL_cf4d0695545a4e709c85edf0817904c1",
              "IPY_MODEL_36803097b5cf49778fd49789125ab4fd"
            ],
            "layout": "IPY_MODEL_c83476886f434ea8a6b5bd390cfd6e14"
          }
        },
        "cf4d0695545a4e709c85edf0817904c1": {
          "model_module": "@jupyter-widgets/controls",
          "model_name": "ToggleButtonsModel",
          "model_module_version": "1.5.0",
          "state": {
            "_dom_classes": [],
            "_model_module": "@jupyter-widgets/controls",
            "_model_module_version": "1.5.0",
            "_model_name": "ToggleButtonsModel",
            "_options_labels": [
              "Pipeline Plot",
              "Hyperparameters",
              "Residuals",
              "Prediction Error",
              "Cooks Distance",
              "Feature Selection",
              "Learning Curve",
              "Manifold Learning",
              "Validation Curve",
              "Feature Importance",
              "Feature Importance (All)",
              "Decision Tree",
              "Interactive Residuals"
            ],
            "_view_count": null,
            "_view_module": "@jupyter-widgets/controls",
            "_view_module_version": "1.5.0",
            "_view_name": "ToggleButtonsView",
            "button_style": "",
            "description": "Plot Type:",
            "description_tooltip": null,
            "disabled": false,
            "icons": [
              ""
            ],
            "index": 0,
            "layout": "IPY_MODEL_67bc6888d25e4416a33efa1a305bf122",
            "style": "IPY_MODEL_5c42ae1e8a974bc5a5ba2c68e968de0a",
            "tooltips": []
          }
        },
        "36803097b5cf49778fd49789125ab4fd": {
          "model_module": "@jupyter-widgets/output",
          "model_name": "OutputModel",
          "model_module_version": "1.0.0",
          "state": {
            "_dom_classes": [],
            "_model_module": "@jupyter-widgets/output",
            "_model_module_version": "1.0.0",
            "_model_name": "OutputModel",
            "_view_count": null,
            "_view_module": "@jupyter-widgets/output",
            "_view_module_version": "1.0.0",
            "_view_name": "OutputView",
            "layout": "IPY_MODEL_81ae12fc26764c898b08958fb1e1b240",
            "msg_id": "",
            "outputs": [
              {
                "output_type": "display_data",
                "data": {
                  "text/plain": "<Figure size 1200x600 with 1 Axes>",
                  "image/png": "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\n"
                },
                "metadata": {}
              }
            ]
          }
        },
        "c83476886f434ea8a6b5bd390cfd6e14": {
          "model_module": "@jupyter-widgets/base",
          "model_name": "LayoutModel",
          "model_module_version": "1.2.0",
          "state": {
            "_model_module": "@jupyter-widgets/base",
            "_model_module_version": "1.2.0",
            "_model_name": "LayoutModel",
            "_view_count": null,
            "_view_module": "@jupyter-widgets/base",
            "_view_module_version": "1.2.0",
            "_view_name": "LayoutView",
            "align_content": null,
            "align_items": null,
            "align_self": null,
            "border": null,
            "bottom": null,
            "display": null,
            "flex": null,
            "flex_flow": null,
            "grid_area": null,
            "grid_auto_columns": null,
            "grid_auto_flow": null,
            "grid_auto_rows": null,
            "grid_column": null,
            "grid_gap": null,
            "grid_row": null,
            "grid_template_areas": null,
            "grid_template_columns": null,
            "grid_template_rows": null,
            "height": null,
            "justify_content": null,
            "justify_items": null,
            "left": null,
            "margin": null,
            "max_height": null,
            "max_width": null,
            "min_height": null,
            "min_width": null,
            "object_fit": null,
            "object_position": null,
            "order": null,
            "overflow": null,
            "overflow_x": null,
            "overflow_y": null,
            "padding": null,
            "right": null,
            "top": null,
            "visibility": null,
            "width": null
          }
        },
        "67bc6888d25e4416a33efa1a305bf122": {
          "model_module": "@jupyter-widgets/base",
          "model_name": "LayoutModel",
          "model_module_version": "1.2.0",
          "state": {
            "_model_module": "@jupyter-widgets/base",
            "_model_module_version": "1.2.0",
            "_model_name": "LayoutModel",
            "_view_count": null,
            "_view_module": "@jupyter-widgets/base",
            "_view_module_version": "1.2.0",
            "_view_name": "LayoutView",
            "align_content": null,
            "align_items": null,
            "align_self": null,
            "border": null,
            "bottom": null,
            "display": null,
            "flex": null,
            "flex_flow": null,
            "grid_area": null,
            "grid_auto_columns": null,
            "grid_auto_flow": null,
            "grid_auto_rows": null,
            "grid_column": null,
            "grid_gap": null,
            "grid_row": null,
            "grid_template_areas": null,
            "grid_template_columns": null,
            "grid_template_rows": null,
            "height": null,
            "justify_content": null,
            "justify_items": null,
            "left": null,
            "margin": null,
            "max_height": null,
            "max_width": null,
            "min_height": null,
            "min_width": null,
            "object_fit": null,
            "object_position": null,
            "order": null,
            "overflow": null,
            "overflow_x": null,
            "overflow_y": null,
            "padding": null,
            "right": null,
            "top": null,
            "visibility": null,
            "width": null
          }
        },
        "5c42ae1e8a974bc5a5ba2c68e968de0a": {
          "model_module": "@jupyter-widgets/controls",
          "model_name": "ToggleButtonsStyleModel",
          "model_module_version": "1.5.0",
          "state": {
            "_model_module": "@jupyter-widgets/controls",
            "_model_module_version": "1.5.0",
            "_model_name": "ToggleButtonsStyleModel",
            "_view_count": null,
            "_view_module": "@jupyter-widgets/base",
            "_view_module_version": "1.2.0",
            "_view_name": "StyleView",
            "button_width": "",
            "description_width": "",
            "font_weight": ""
          }
        },
        "81ae12fc26764c898b08958fb1e1b240": {
          "model_module": "@jupyter-widgets/base",
          "model_name": "LayoutModel",
          "model_module_version": "1.2.0",
          "state": {
            "_model_module": "@jupyter-widgets/base",
            "_model_module_version": "1.2.0",
            "_model_name": "LayoutModel",
            "_view_count": null,
            "_view_module": "@jupyter-widgets/base",
            "_view_module_version": "1.2.0",
            "_view_name": "LayoutView",
            "align_content": null,
            "align_items": null,
            "align_self": null,
            "border": null,
            "bottom": null,
            "display": null,
            "flex": null,
            "flex_flow": null,
            "grid_area": null,
            "grid_auto_columns": null,
            "grid_auto_flow": null,
            "grid_auto_rows": null,
            "grid_column": null,
            "grid_gap": null,
            "grid_row": null,
            "grid_template_areas": null,
            "grid_template_columns": null,
            "grid_template_rows": null,
            "height": null,
            "justify_content": null,
            "justify_items": null,
            "left": null,
            "margin": null,
            "max_height": null,
            "max_width": null,
            "min_height": null,
            "min_width": null,
            "object_fit": null,
            "object_position": null,
            "order": null,
            "overflow": null,
            "overflow_x": null,
            "overflow_y": null,
            "padding": null,
            "right": null,
            "top": null,
            "visibility": null,
            "width": null
          }
        }
      }
    }
  },
  "cells": [
    {
      "cell_type": "markdown",
      "source": [
        "# Instalações necessarias"
      ],
      "metadata": {
        "id": "k6hB_Db1dZqh"
      }
    },
    {
      "cell_type": "code",
      "source": [
        "# Pydrive para acesso ao drive\n",
        "!pip install -U -q PyDrive\n",
        "# Pycaret para o modelo\n",
        "!pip install -U -q pycaret[full]"
      ],
      "metadata": {
        "id": "Ty6OnV2giIWM"
      },
      "execution_count": 81,
      "outputs": []
    },
    {
      "cell_type": "markdown",
      "source": [
        "# Importações necessarias"
      ],
      "metadata": {
        "id": "kBFD5LUVdl4Z"
      }
    },
    {
      "cell_type": "code",
      "source": [
        "# Todos os imports\n",
        "import pandas as pd\n",
        "import numpy as np"
      ],
      "metadata": {
        "id": "KPEA7ifPiJAt"
      },
      "execution_count": 82,
      "outputs": []
    },
    {
      "cell_type": "markdown",
      "source": [
        "# Baixar o dataset (Global YouTube Statistics 2023)"
      ],
      "metadata": {
        "id": "wklQKVpadnbc"
      }
    },
    {
      "cell_type": "code",
      "source": [
        "# Download do dataset do Drive\n",
        "!gdown 1tXfxpKWjtvtmf9J-XYhFIOinn68c5TWg"
      ],
      "metadata": {
        "colab": {
          "base_uri": "https://localhost:8080/"
        },
        "id": "Ek-GUXJA2wP3",
        "outputId": "aaafc14c-c27b-4cef-c920-d8e53d8a0d25"
      },
      "execution_count": 83,
      "outputs": [
        {
          "output_type": "stream",
          "name": "stdout",
          "text": [
            "Downloading...\n",
            "From: https://drive.google.com/uc?id=1tXfxpKWjtvtmf9J-XYhFIOinn68c5TWg\n",
            "To: /content/dataset.csv\n",
            "\r  0% 0.00/200k [00:00<?, ?B/s]\r100% 200k/200k [00:00<00:00, 57.0MB/s]\n"
          ]
        }
      ]
    },
    {
      "cell_type": "markdown",
      "source": [
        "# Carregar o dataframe\n"
      ],
      "metadata": {
        "id": "7ybvN3ykC8Zy"
      }
    },
    {
      "cell_type": "code",
      "execution_count": 84,
      "metadata": {
        "id": "IZ_mXUQGz1Ko"
      },
      "outputs": [],
      "source": [
        "df = pd.read_csv('./dataset.csv',encoding=\"latin-1\")"
      ]
    },
    {
      "cell_type": "markdown",
      "source": [
        "# Ajeitando os nomes das colunas"
      ],
      "metadata": {
        "id": "MOGHcH2yDBJ9"
      }
    },
    {
      "cell_type": "code",
      "source": [
        "df.columns = df.columns.str.replace(' ', '_')\n",
        "df.columns = df.columns.str.lower()\n",
        "df.rename(columns={'video_views_for_the_last_30_days': 'video_views_last_30_days'}, inplace=True)\n",
        "df.rename(columns={'gross_tertiary_education_enrollment_(%)': 'percent_gross_tertiary_education'}, inplace=True)\n",
        "df.rename(columns={'subscribers_for_last_30_days': 'subscribers_last_30_days'}, inplace=True)"
      ],
      "metadata": {
        "id": "FnKn0UfDJHvO"
      },
      "execution_count": 85,
      "outputs": []
    },
    {
      "cell_type": "markdown",
      "source": [
        "# Verificando e explorando o dataset"
      ],
      "metadata": {
        "id": "HjoFm3qAeE1T"
      }
    },
    {
      "cell_type": "code",
      "execution_count": 86,
      "metadata": {
        "id": "A02MsTcdDBJ-",
        "colab": {
          "base_uri": "https://localhost:8080/",
          "height": 325
        },
        "outputId": "203057fb-a767-4906-de74-efb274fc908e"
      },
      "outputs": [
        {
          "output_type": "execute_result",
          "data": {
            "text/plain": [
              "   rank                    youtuber  subscribers   video_views  \\\n",
              "0     1                    T-Series    245000000  2.280000e+11   \n",
              "1     2              YouTube Movies    170000000  0.000000e+00   \n",
              "2     3                     MrBeast    166000000  2.836884e+10   \n",
              "3     4  Cocomelon - Nursery Rhymes    162000000  1.640000e+11   \n",
              "4     5                   SET India    159000000  1.480000e+11   \n",
              "\n",
              "           category                       title  uploads        country  \\\n",
              "0             Music                    T-Series    20082          India   \n",
              "1  Film & Animation               youtubemovies        1  United States   \n",
              "2     Entertainment                     MrBeast      741  United States   \n",
              "3         Education  Cocomelon - Nursery Rhymes      966  United States   \n",
              "4             Shows                   SET India   116536          India   \n",
              "\n",
              "  abbreviation   channel_type  ...  subscribers_last_30_days  created_year  \\\n",
              "0           IN          Music  ...                 2000000.0        2006.0   \n",
              "1           US          Games  ...                       NaN        2006.0   \n",
              "2           US  Entertainment  ...                 8000000.0        2012.0   \n",
              "3           US      Education  ...                 1000000.0        2006.0   \n",
              "4           IN  Entertainment  ...                 1000000.0        2006.0   \n",
              "\n",
              "   created_month  created_date  percent_gross_tertiary_education  \\\n",
              "0            Mar          13.0                              28.1   \n",
              "1            Mar           5.0                              88.2   \n",
              "2            Feb          20.0                              88.2   \n",
              "3            Sep           1.0                              88.2   \n",
              "4            Sep          20.0                              28.1   \n",
              "\n",
              "     population  unemployment_rate  urban_population   latitude  longitude  \n",
              "0  1.366418e+09               5.36       471031528.0  20.593684  78.962880  \n",
              "1  3.282395e+08              14.70       270663028.0  37.090240 -95.712891  \n",
              "2  3.282395e+08              14.70       270663028.0  37.090240 -95.712891  \n",
              "3  3.282395e+08              14.70       270663028.0  37.090240 -95.712891  \n",
              "4  1.366418e+09               5.36       471031528.0  20.593684  78.962880  \n",
              "\n",
              "[5 rows x 28 columns]"
            ],
            "text/html": [
              "\n",
              "  <div id=\"df-b26aebfc-23d1-4843-962d-789657c04169\" class=\"colab-df-container\">\n",
              "    <div>\n",
              "<style scoped>\n",
              "    .dataframe tbody tr th:only-of-type {\n",
              "        vertical-align: middle;\n",
              "    }\n",
              "\n",
              "    .dataframe tbody tr th {\n",
              "        vertical-align: top;\n",
              "    }\n",
              "\n",
              "    .dataframe thead th {\n",
              "        text-align: right;\n",
              "    }\n",
              "</style>\n",
              "<table border=\"1\" class=\"dataframe\">\n",
              "  <thead>\n",
              "    <tr style=\"text-align: right;\">\n",
              "      <th></th>\n",
              "      <th>rank</th>\n",
              "      <th>youtuber</th>\n",
              "      <th>subscribers</th>\n",
              "      <th>video_views</th>\n",
              "      <th>category</th>\n",
              "      <th>title</th>\n",
              "      <th>uploads</th>\n",
              "      <th>country</th>\n",
              "      <th>abbreviation</th>\n",
              "      <th>channel_type</th>\n",
              "      <th>...</th>\n",
              "      <th>subscribers_last_30_days</th>\n",
              "      <th>created_year</th>\n",
              "      <th>created_month</th>\n",
              "      <th>created_date</th>\n",
              "      <th>percent_gross_tertiary_education</th>\n",
              "      <th>population</th>\n",
              "      <th>unemployment_rate</th>\n",
              "      <th>urban_population</th>\n",
              "      <th>latitude</th>\n",
              "      <th>longitude</th>\n",
              "    </tr>\n",
              "  </thead>\n",
              "  <tbody>\n",
              "    <tr>\n",
              "      <th>0</th>\n",
              "      <td>1</td>\n",
              "      <td>T-Series</td>\n",
              "      <td>245000000</td>\n",
              "      <td>2.280000e+11</td>\n",
              "      <td>Music</td>\n",
              "      <td>T-Series</td>\n",
              "      <td>20082</td>\n",
              "      <td>India</td>\n",
              "      <td>IN</td>\n",
              "      <td>Music</td>\n",
              "      <td>...</td>\n",
              "      <td>2000000.0</td>\n",
              "      <td>2006.0</td>\n",
              "      <td>Mar</td>\n",
              "      <td>13.0</td>\n",
              "      <td>28.1</td>\n",
              "      <td>1.366418e+09</td>\n",
              "      <td>5.36</td>\n",
              "      <td>471031528.0</td>\n",
              "      <td>20.593684</td>\n",
              "      <td>78.962880</td>\n",
              "    </tr>\n",
              "    <tr>\n",
              "      <th>1</th>\n",
              "      <td>2</td>\n",
              "      <td>YouTube Movies</td>\n",
              "      <td>170000000</td>\n",
              "      <td>0.000000e+00</td>\n",
              "      <td>Film &amp; Animation</td>\n",
              "      <td>youtubemovies</td>\n",
              "      <td>1</td>\n",
              "      <td>United States</td>\n",
              "      <td>US</td>\n",
              "      <td>Games</td>\n",
              "      <td>...</td>\n",
              "      <td>NaN</td>\n",
              "      <td>2006.0</td>\n",
              "      <td>Mar</td>\n",
              "      <td>5.0</td>\n",
              "      <td>88.2</td>\n",
              "      <td>3.282395e+08</td>\n",
              "      <td>14.70</td>\n",
              "      <td>270663028.0</td>\n",
              "      <td>37.090240</td>\n",
              "      <td>-95.712891</td>\n",
              "    </tr>\n",
              "    <tr>\n",
              "      <th>2</th>\n",
              "      <td>3</td>\n",
              "      <td>MrBeast</td>\n",
              "      <td>166000000</td>\n",
              "      <td>2.836884e+10</td>\n",
              "      <td>Entertainment</td>\n",
              "      <td>MrBeast</td>\n",
              "      <td>741</td>\n",
              "      <td>United States</td>\n",
              "      <td>US</td>\n",
              "      <td>Entertainment</td>\n",
              "      <td>...</td>\n",
              "      <td>8000000.0</td>\n",
              "      <td>2012.0</td>\n",
              "      <td>Feb</td>\n",
              "      <td>20.0</td>\n",
              "      <td>88.2</td>\n",
              "      <td>3.282395e+08</td>\n",
              "      <td>14.70</td>\n",
              "      <td>270663028.0</td>\n",
              "      <td>37.090240</td>\n",
              "      <td>-95.712891</td>\n",
              "    </tr>\n",
              "    <tr>\n",
              "      <th>3</th>\n",
              "      <td>4</td>\n",
              "      <td>Cocomelon - Nursery Rhymes</td>\n",
              "      <td>162000000</td>\n",
              "      <td>1.640000e+11</td>\n",
              "      <td>Education</td>\n",
              "      <td>Cocomelon - Nursery Rhymes</td>\n",
              "      <td>966</td>\n",
              "      <td>United States</td>\n",
              "      <td>US</td>\n",
              "      <td>Education</td>\n",
              "      <td>...</td>\n",
              "      <td>1000000.0</td>\n",
              "      <td>2006.0</td>\n",
              "      <td>Sep</td>\n",
              "      <td>1.0</td>\n",
              "      <td>88.2</td>\n",
              "      <td>3.282395e+08</td>\n",
              "      <td>14.70</td>\n",
              "      <td>270663028.0</td>\n",
              "      <td>37.090240</td>\n",
              "      <td>-95.712891</td>\n",
              "    </tr>\n",
              "    <tr>\n",
              "      <th>4</th>\n",
              "      <td>5</td>\n",
              "      <td>SET India</td>\n",
              "      <td>159000000</td>\n",
              "      <td>1.480000e+11</td>\n",
              "      <td>Shows</td>\n",
              "      <td>SET India</td>\n",
              "      <td>116536</td>\n",
              "      <td>India</td>\n",
              "      <td>IN</td>\n",
              "      <td>Entertainment</td>\n",
              "      <td>...</td>\n",
              "      <td>1000000.0</td>\n",
              "      <td>2006.0</td>\n",
              "      <td>Sep</td>\n",
              "      <td>20.0</td>\n",
              "      <td>28.1</td>\n",
              "      <td>1.366418e+09</td>\n",
              "      <td>5.36</td>\n",
              "      <td>471031528.0</td>\n",
              "      <td>20.593684</td>\n",
              "      <td>78.962880</td>\n",
              "    </tr>\n",
              "  </tbody>\n",
              "</table>\n",
              "<p>5 rows × 28 columns</p>\n",
              "</div>\n",
              "    <div class=\"colab-df-buttons\">\n",
              "\n",
              "  <div class=\"colab-df-container\">\n",
              "    <button class=\"colab-df-convert\" onclick=\"convertToInteractive('df-b26aebfc-23d1-4843-962d-789657c04169')\"\n",
              "            title=\"Convert this dataframe to an interactive table.\"\n",
              "            style=\"display:none;\">\n",
              "\n",
              "  <svg xmlns=\"http://www.w3.org/2000/svg\" height=\"24px\" viewBox=\"0 -960 960 960\">\n",
              "    <path d=\"M120-120v-720h720v720H120Zm60-500h600v-160H180v160Zm220 220h160v-160H400v160Zm0 220h160v-160H400v160ZM180-400h160v-160H180v160Zm440 0h160v-160H620v160ZM180-180h160v-160H180v160Zm440 0h160v-160H620v160Z\"/>\n",
              "  </svg>\n",
              "    </button>\n",
              "\n",
              "  <style>\n",
              "    .colab-df-container {\n",
              "      display:flex;\n",
              "      gap: 12px;\n",
              "    }\n",
              "\n",
              "    .colab-df-convert {\n",
              "      background-color: #E8F0FE;\n",
              "      border: none;\n",
              "      border-radius: 50%;\n",
              "      cursor: pointer;\n",
              "      display: none;\n",
              "      fill: #1967D2;\n",
              "      height: 32px;\n",
              "      padding: 0 0 0 0;\n",
              "      width: 32px;\n",
              "    }\n",
              "\n",
              "    .colab-df-convert:hover {\n",
              "      background-color: #E2EBFA;\n",
              "      box-shadow: 0px 1px 2px rgba(60, 64, 67, 0.3), 0px 1px 3px 1px rgba(60, 64, 67, 0.15);\n",
              "      fill: #174EA6;\n",
              "    }\n",
              "\n",
              "    .colab-df-buttons div {\n",
              "      margin-bottom: 4px;\n",
              "    }\n",
              "\n",
              "    [theme=dark] .colab-df-convert {\n",
              "      background-color: #3B4455;\n",
              "      fill: #D2E3FC;\n",
              "    }\n",
              "\n",
              "    [theme=dark] .colab-df-convert:hover {\n",
              "      background-color: #434B5C;\n",
              "      box-shadow: 0px 1px 3px 1px rgba(0, 0, 0, 0.15);\n",
              "      filter: drop-shadow(0px 1px 2px rgba(0, 0, 0, 0.3));\n",
              "      fill: #FFFFFF;\n",
              "    }\n",
              "  </style>\n",
              "\n",
              "    <script>\n",
              "      const buttonEl =\n",
              "        document.querySelector('#df-b26aebfc-23d1-4843-962d-789657c04169 button.colab-df-convert');\n",
              "      buttonEl.style.display =\n",
              "        google.colab.kernel.accessAllowed ? 'block' : 'none';\n",
              "\n",
              "      async function convertToInteractive(key) {\n",
              "        const element = document.querySelector('#df-b26aebfc-23d1-4843-962d-789657c04169');\n",
              "        const dataTable =\n",
              "          await google.colab.kernel.invokeFunction('convertToInteractive',\n",
              "                                                    [key], {});\n",
              "        if (!dataTable) return;\n",
              "\n",
              "        const docLinkHtml = 'Like what you see? Visit the ' +\n",
              "          '<a target=\"_blank\" href=https://colab.research.google.com/notebooks/data_table.ipynb>data table notebook</a>'\n",
              "          + ' to learn more about interactive tables.';\n",
              "        element.innerHTML = '';\n",
              "        dataTable['output_type'] = 'display_data';\n",
              "        await google.colab.output.renderOutput(dataTable, element);\n",
              "        const docLink = document.createElement('div');\n",
              "        docLink.innerHTML = docLinkHtml;\n",
              "        element.appendChild(docLink);\n",
              "      }\n",
              "    </script>\n",
              "  </div>\n",
              "\n",
              "\n",
              "<div id=\"df-7633e839-a8c1-4426-9b1d-a4338b7ee09e\">\n",
              "  <button class=\"colab-df-quickchart\" onclick=\"quickchart('df-7633e839-a8c1-4426-9b1d-a4338b7ee09e')\"\n",
              "            title=\"Suggest charts.\"\n",
              "            style=\"display:none;\">\n",
              "\n",
              "<svg xmlns=\"http://www.w3.org/2000/svg\" height=\"24px\"viewBox=\"0 0 24 24\"\n",
              "     width=\"24px\">\n",
              "    <g>\n",
              "        <path d=\"M19 3H5c-1.1 0-2 .9-2 2v14c0 1.1.9 2 2 2h14c1.1 0 2-.9 2-2V5c0-1.1-.9-2-2-2zM9 17H7v-7h2v7zm4 0h-2V7h2v10zm4 0h-2v-4h2v4z\"/>\n",
              "    </g>\n",
              "</svg>\n",
              "  </button>\n",
              "\n",
              "<style>\n",
              "  .colab-df-quickchart {\n",
              "      --bg-color: #E8F0FE;\n",
              "      --fill-color: #1967D2;\n",
              "      --hover-bg-color: #E2EBFA;\n",
              "      --hover-fill-color: #174EA6;\n",
              "      --disabled-fill-color: #AAA;\n",
              "      --disabled-bg-color: #DDD;\n",
              "  }\n",
              "\n",
              "  [theme=dark] .colab-df-quickchart {\n",
              "      --bg-color: #3B4455;\n",
              "      --fill-color: #D2E3FC;\n",
              "      --hover-bg-color: #434B5C;\n",
              "      --hover-fill-color: #FFFFFF;\n",
              "      --disabled-bg-color: #3B4455;\n",
              "      --disabled-fill-color: #666;\n",
              "  }\n",
              "\n",
              "  .colab-df-quickchart {\n",
              "    background-color: var(--bg-color);\n",
              "    border: none;\n",
              "    border-radius: 50%;\n",
              "    cursor: pointer;\n",
              "    display: none;\n",
              "    fill: var(--fill-color);\n",
              "    height: 32px;\n",
              "    padding: 0;\n",
              "    width: 32px;\n",
              "  }\n",
              "\n",
              "  .colab-df-quickchart:hover {\n",
              "    background-color: var(--hover-bg-color);\n",
              "    box-shadow: 0 1px 2px rgba(60, 64, 67, 0.3), 0 1px 3px 1px rgba(60, 64, 67, 0.15);\n",
              "    fill: var(--button-hover-fill-color);\n",
              "  }\n",
              "\n",
              "  .colab-df-quickchart-complete:disabled,\n",
              "  .colab-df-quickchart-complete:disabled:hover {\n",
              "    background-color: var(--disabled-bg-color);\n",
              "    fill: var(--disabled-fill-color);\n",
              "    box-shadow: none;\n",
              "  }\n",
              "\n",
              "  .colab-df-spinner {\n",
              "    border: 2px solid var(--fill-color);\n",
              "    border-color: transparent;\n",
              "    border-bottom-color: var(--fill-color);\n",
              "    animation:\n",
              "      spin 1s steps(1) infinite;\n",
              "  }\n",
              "\n",
              "  @keyframes spin {\n",
              "    0% {\n",
              "      border-color: transparent;\n",
              "      border-bottom-color: var(--fill-color);\n",
              "      border-left-color: var(--fill-color);\n",
              "    }\n",
              "    20% {\n",
              "      border-color: transparent;\n",
              "      border-left-color: var(--fill-color);\n",
              "      border-top-color: var(--fill-color);\n",
              "    }\n",
              "    30% {\n",
              "      border-color: transparent;\n",
              "      border-left-color: var(--fill-color);\n",
              "      border-top-color: var(--fill-color);\n",
              "      border-right-color: var(--fill-color);\n",
              "    }\n",
              "    40% {\n",
              "      border-color: transparent;\n",
              "      border-right-color: var(--fill-color);\n",
              "      border-top-color: var(--fill-color);\n",
              "    }\n",
              "    60% {\n",
              "      border-color: transparent;\n",
              "      border-right-color: var(--fill-color);\n",
              "    }\n",
              "    80% {\n",
              "      border-color: transparent;\n",
              "      border-right-color: var(--fill-color);\n",
              "      border-bottom-color: var(--fill-color);\n",
              "    }\n",
              "    90% {\n",
              "      border-color: transparent;\n",
              "      border-bottom-color: var(--fill-color);\n",
              "    }\n",
              "  }\n",
              "</style>\n",
              "\n",
              "  <script>\n",
              "    async function quickchart(key) {\n",
              "      const quickchartButtonEl =\n",
              "        document.querySelector('#' + key + ' button');\n",
              "      quickchartButtonEl.disabled = true;  // To prevent multiple clicks.\n",
              "      quickchartButtonEl.classList.add('colab-df-spinner');\n",
              "      try {\n",
              "        const charts = await google.colab.kernel.invokeFunction(\n",
              "            'suggestCharts', [key], {});\n",
              "      } catch (error) {\n",
              "        console.error('Error during call to suggestCharts:', error);\n",
              "      }\n",
              "      quickchartButtonEl.classList.remove('colab-df-spinner');\n",
              "      quickchartButtonEl.classList.add('colab-df-quickchart-complete');\n",
              "    }\n",
              "    (() => {\n",
              "      let quickchartButtonEl =\n",
              "        document.querySelector('#df-7633e839-a8c1-4426-9b1d-a4338b7ee09e button');\n",
              "      quickchartButtonEl.style.display =\n",
              "        google.colab.kernel.accessAllowed ? 'block' : 'none';\n",
              "    })();\n",
              "  </script>\n",
              "</div>\n",
              "    </div>\n",
              "  </div>\n"
            ]
          },
          "metadata": {},
          "execution_count": 86
        }
      ],
      "source": [
        "df.head()"
      ]
    },
    {
      "cell_type": "code",
      "source": [
        "df.shape"
      ],
      "metadata": {
        "id": "6Jt18hUmDBJ-",
        "colab": {
          "base_uri": "https://localhost:8080/"
        },
        "outputId": "2f344e24-2bdd-49a5-8b16-f2118fcdff07"
      },
      "execution_count": 87,
      "outputs": [
        {
          "output_type": "execute_result",
          "data": {
            "text/plain": [
              "(995, 28)"
            ]
          },
          "metadata": {},
          "execution_count": 87
        }
      ]
    },
    {
      "cell_type": "code",
      "source": [
        "df.columns"
      ],
      "metadata": {
        "colab": {
          "base_uri": "https://localhost:8080/"
        },
        "id": "L-4Nz1r_irX_",
        "outputId": "1ac70d5c-17c6-427d-847c-732cf075bd9c"
      },
      "execution_count": 88,
      "outputs": [
        {
          "output_type": "execute_result",
          "data": {
            "text/plain": [
              "Index(['rank', 'youtuber', 'subscribers', 'video_views', 'category', 'title',\n",
              "       'uploads', 'country', 'abbreviation', 'channel_type',\n",
              "       'video_views_rank', 'country_rank', 'channel_type_rank',\n",
              "       'video_views_last_30_days', 'lowest_monthly_earnings',\n",
              "       'highest_monthly_earnings', 'lowest_yearly_earnings',\n",
              "       'highest_yearly_earnings', 'subscribers_last_30_days', 'created_year',\n",
              "       'created_month', 'created_date', 'percent_gross_tertiary_education',\n",
              "       'population', 'unemployment_rate', 'urban_population', 'latitude',\n",
              "       'longitude'],\n",
              "      dtype='object')"
            ]
          },
          "metadata": {},
          "execution_count": 88
        }
      ]
    },
    {
      "cell_type": "code",
      "source": [
        "df.dtypes"
      ],
      "metadata": {
        "colab": {
          "base_uri": "https://localhost:8080/"
        },
        "id": "5ot7Zf2HiyWW",
        "outputId": "51819950-e642-40c3-e124-ff37b7bc131b"
      },
      "execution_count": 89,
      "outputs": [
        {
          "output_type": "execute_result",
          "data": {
            "text/plain": [
              "rank                                  int64\n",
              "youtuber                             object\n",
              "subscribers                           int64\n",
              "video_views                         float64\n",
              "category                             object\n",
              "title                                object\n",
              "uploads                               int64\n",
              "country                              object\n",
              "abbreviation                         object\n",
              "channel_type                         object\n",
              "video_views_rank                    float64\n",
              "country_rank                        float64\n",
              "channel_type_rank                   float64\n",
              "video_views_last_30_days            float64\n",
              "lowest_monthly_earnings             float64\n",
              "highest_monthly_earnings            float64\n",
              "lowest_yearly_earnings              float64\n",
              "highest_yearly_earnings             float64\n",
              "subscribers_last_30_days            float64\n",
              "created_year                        float64\n",
              "created_month                        object\n",
              "created_date                        float64\n",
              "percent_gross_tertiary_education    float64\n",
              "population                          float64\n",
              "unemployment_rate                   float64\n",
              "urban_population                    float64\n",
              "latitude                            float64\n",
              "longitude                           float64\n",
              "dtype: object"
            ]
          },
          "metadata": {},
          "execution_count": 89
        }
      ]
    },
    {
      "cell_type": "code",
      "source": [
        "df.isnull().sum()"
      ],
      "metadata": {
        "colab": {
          "base_uri": "https://localhost:8080/"
        },
        "id": "jbQ2INkei0lJ",
        "outputId": "22c9df94-2fe1-412f-97fe-339e6828e0af"
      },
      "execution_count": 90,
      "outputs": [
        {
          "output_type": "execute_result",
          "data": {
            "text/plain": [
              "rank                                  0\n",
              "youtuber                              0\n",
              "subscribers                           0\n",
              "video_views                           0\n",
              "category                             46\n",
              "title                                 0\n",
              "uploads                               0\n",
              "country                             122\n",
              "abbreviation                        122\n",
              "channel_type                         30\n",
              "video_views_rank                      1\n",
              "country_rank                        116\n",
              "channel_type_rank                    33\n",
              "video_views_last_30_days             56\n",
              "lowest_monthly_earnings               0\n",
              "highest_monthly_earnings              0\n",
              "lowest_yearly_earnings                0\n",
              "highest_yearly_earnings               0\n",
              "subscribers_last_30_days            337\n",
              "created_year                          5\n",
              "created_month                         5\n",
              "created_date                          5\n",
              "percent_gross_tertiary_education    123\n",
              "population                          123\n",
              "unemployment_rate                   123\n",
              "urban_population                    123\n",
              "latitude                            123\n",
              "longitude                           123\n",
              "dtype: int64"
            ]
          },
          "metadata": {},
          "execution_count": 90
        }
      ]
    },
    {
      "cell_type": "markdown",
      "source": [
        "# Pré-processamento dos dados\n",
        "Na etapa de processamento de dados foi utilizado e escolhido o label enconder por ele já criar uma metrica para ser substituida já que possui alguns campos com metricas em string, assim evitando replaces enormes realizando metricas na mão"
      ],
      "metadata": {
        "id": "eignq_YuDOFd"
      }
    },
    {
      "cell_type": "code",
      "execution_count": 91,
      "metadata": {
        "id": "rufGHSVwDOFd"
      },
      "outputs": [],
      "source": [
        "from sklearn import preprocessing\n",
        "label_encoder = preprocessing.LabelEncoder() # Armazenando o processo em uma variável"
      ]
    },
    {
      "cell_type": "code",
      "source": [
        "# Apply label encoding to the categorical columns\n",
        "df['country'] = label_encoder.fit_transform(df['country'])"
      ],
      "metadata": {
        "id": "fMSG6LYTKoB8"
      },
      "execution_count": 92,
      "outputs": []
    },
    {
      "cell_type": "code",
      "source": [
        "df['category'] = label_encoder.fit_transform(df['category'])"
      ],
      "metadata": {
        "id": "cHB5qRDHDOFd"
      },
      "execution_count": 93,
      "outputs": []
    },
    {
      "cell_type": "code",
      "source": [
        "df['channel_type'] = label_encoder.fit_transform(df['channel_type'])"
      ],
      "metadata": {
        "id": "8DpnyU6CjUtv"
      },
      "execution_count": 94,
      "outputs": []
    },
    {
      "cell_type": "code",
      "source": [
        "columns_drop = ['youtuber', 'unemployment_rate','lowest_monthly_earnings', 'highest_yearly_earnings', 'lowest_yearly_earnings','highest_monthly_earnings','title', 'abbreviation', 'latitude', 'longitude', 'created_year', 'created_month', 'created_date', 'urban_population', 'percent_gross_tertiary_education', 'population']\n",
        "df.drop(columns=columns_drop, inplace=True)"
      ],
      "metadata": {
        "id": "Jw4d2T3pP9Sy"
      },
      "execution_count": 95,
      "outputs": []
    },
    {
      "cell_type": "code",
      "source": [
        "df.fillna(0,inplace=True) # Substitui os nulos por strings vazias\n",
        "df.dropna(inplace=True) # Remove os registros com dados nulos\n",
        "df.drop_duplicates(inplace=True) # Remove os registros duplicados"
      ],
      "metadata": {
        "id": "lgEcV6CAmYXG"
      },
      "execution_count": 96,
      "outputs": []
    },
    {
      "cell_type": "markdown",
      "source": [
        "# Checar se sobrou ainda nulos"
      ],
      "metadata": {
        "id": "Y5XRBK0ueNEo"
      }
    },
    {
      "cell_type": "code",
      "source": [
        "df.isnull().sum()"
      ],
      "metadata": {
        "colab": {
          "base_uri": "https://localhost:8080/"
        },
        "id": "8x968OCjeM4-",
        "outputId": "7631d1df-8da1-4041-d103-88d6ef286bb0"
      },
      "execution_count": 97,
      "outputs": [
        {
          "output_type": "execute_result",
          "data": {
            "text/plain": [
              "rank                        0\n",
              "subscribers                 0\n",
              "video_views                 0\n",
              "category                    0\n",
              "uploads                     0\n",
              "country                     0\n",
              "channel_type                0\n",
              "video_views_rank            0\n",
              "country_rank                0\n",
              "channel_type_rank           0\n",
              "video_views_last_30_days    0\n",
              "subscribers_last_30_days    0\n",
              "dtype: int64"
            ]
          },
          "metadata": {},
          "execution_count": 97
        }
      ]
    },
    {
      "cell_type": "markdown",
      "source": [
        "# Checar se ainda tem colunas do tipo string"
      ],
      "metadata": {
        "id": "niAmyI21eUGD"
      }
    },
    {
      "cell_type": "code",
      "source": [
        "df.dtypes"
      ],
      "metadata": {
        "colab": {
          "base_uri": "https://localhost:8080/"
        },
        "id": "BVWOKlobf2GO",
        "outputId": "32fd0e44-fff7-4d58-f9a6-c99b7ee374a8"
      },
      "execution_count": 98,
      "outputs": [
        {
          "output_type": "execute_result",
          "data": {
            "text/plain": [
              "rank                          int64\n",
              "subscribers                   int64\n",
              "video_views                 float64\n",
              "category                      int64\n",
              "uploads                       int64\n",
              "country                       int64\n",
              "channel_type                  int64\n",
              "video_views_rank            float64\n",
              "country_rank                float64\n",
              "channel_type_rank           float64\n",
              "video_views_last_30_days    float64\n",
              "subscribers_last_30_days    float64\n",
              "dtype: object"
            ]
          },
          "metadata": {},
          "execution_count": 98
        }
      ]
    },
    {
      "cell_type": "markdown",
      "source": [
        "# Matriz de correlação\n"
      ],
      "metadata": {
        "id": "kUsbyekyDTCk"
      }
    },
    {
      "cell_type": "code",
      "source": [
        "matriz_corr = df.corr().style.background_gradient(cmap='coolwarm')\n",
        "matriz_corr"
      ],
      "metadata": {
        "colab": {
          "base_uri": "https://localhost:8080/",
          "height": 445
        },
        "id": "ABAsKkEcoWor",
        "outputId": "2dd4dc27-6e1b-4912-deb4-570eeb228ab0"
      },
      "execution_count": 99,
      "outputs": [
        {
          "output_type": "execute_result",
          "data": {
            "text/plain": [
              "<pandas.io.formats.style.Styler at 0x7c4e00f3d210>"
            ],
            "text/html": [
              "<style type=\"text/css\">\n",
              "#T_3dd90_row0_col0, #T_3dd90_row1_col1, #T_3dd90_row2_col2, #T_3dd90_row3_col3, #T_3dd90_row4_col4, #T_3dd90_row5_col5, #T_3dd90_row6_col6, #T_3dd90_row7_col7, #T_3dd90_row8_col8, #T_3dd90_row9_col9, #T_3dd90_row10_col10, #T_3dd90_row11_col11 {\n",
              "  background-color: #b40426;\n",
              "  color: #f1f1f1;\n",
              "}\n",
              "#T_3dd90_row0_col1, #T_3dd90_row0_col2, #T_3dd90_row0_col10, #T_3dd90_row0_col11, #T_3dd90_row1_col0, #T_3dd90_row4_col5, #T_3dd90_row7_col4, #T_3dd90_row8_col3, #T_3dd90_row10_col6, #T_3dd90_row11_col6, #T_3dd90_row11_col7, #T_3dd90_row11_col8, #T_3dd90_row11_col9 {\n",
              "  background-color: #3b4cc0;\n",
              "  color: #f1f1f1;\n",
              "}\n",
              "#T_3dd90_row0_col3, #T_3dd90_row0_col5, #T_3dd90_row2_col6, #T_3dd90_row4_col8, #T_3dd90_row11_col5 {\n",
              "  background-color: #465ecf;\n",
              "  color: #f1f1f1;\n",
              "}\n",
              "#T_3dd90_row0_col4, #T_3dd90_row4_col9, #T_3dd90_row10_col7 {\n",
              "  background-color: #4a63d3;\n",
              "  color: #f1f1f1;\n",
              "}\n",
              "#T_3dd90_row0_col6 {\n",
              "  background-color: #536edd;\n",
              "  color: #f1f1f1;\n",
              "}\n",
              "#T_3dd90_row0_col7, #T_3dd90_row4_col6, #T_3dd90_row5_col10 {\n",
              "  background-color: #5977e3;\n",
              "  color: #f1f1f1;\n",
              "}\n",
              "#T_3dd90_row0_col8 {\n",
              "  background-color: #5f7fe8;\n",
              "  color: #f1f1f1;\n",
              "}\n",
              "#T_3dd90_row0_col9, #T_3dd90_row3_col9 {\n",
              "  background-color: #5d7ce6;\n",
              "  color: #f1f1f1;\n",
              "}\n",
              "#T_3dd90_row1_col2 {\n",
              "  background-color: #e8765c;\n",
              "  color: #f1f1f1;\n",
              "}\n",
              "#T_3dd90_row1_col3, #T_3dd90_row2_col5 {\n",
              "  background-color: #5470de;\n",
              "  color: #f1f1f1;\n",
              "}\n",
              "#T_3dd90_row1_col4, #T_3dd90_row6_col8 {\n",
              "  background-color: #6f92f3;\n",
              "  color: #f1f1f1;\n",
              "}\n",
              "#T_3dd90_row1_col5, #T_3dd90_row6_col10 {\n",
              "  background-color: #5572df;\n",
              "  color: #f1f1f1;\n",
              "}\n",
              "#T_3dd90_row1_col6, #T_3dd90_row2_col3, #T_3dd90_row4_col7, #T_3dd90_row7_col10 {\n",
              "  background-color: #4b64d5;\n",
              "  color: #f1f1f1;\n",
              "}\n",
              "#T_3dd90_row1_col7 {\n",
              "  background-color: #7a9df8;\n",
              "  color: #f1f1f1;\n",
              "}\n",
              "#T_3dd90_row1_col8, #T_3dd90_row6_col4 {\n",
              "  background-color: #6282ea;\n",
              "  color: #f1f1f1;\n",
              "}\n",
              "#T_3dd90_row1_col9, #T_3dd90_row5_col3, #T_3dd90_row5_col6 {\n",
              "  background-color: #6b8df0;\n",
              "  color: #f1f1f1;\n",
              "}\n",
              "#T_3dd90_row1_col10, #T_3dd90_row6_col1 {\n",
              "  background-color: #bad0f8;\n",
              "  color: #000000;\n",
              "}\n",
              "#T_3dd90_row1_col11 {\n",
              "  background-color: #bcd2f7;\n",
              "  color: #000000;\n",
              "}\n",
              "#T_3dd90_row2_col0, #T_3dd90_row5_col8 {\n",
              "  background-color: #5e7de7;\n",
              "  color: #f1f1f1;\n",
              "}\n",
              "#T_3dd90_row2_col1 {\n",
              "  background-color: #e36c55;\n",
              "  color: #f1f1f1;\n",
              "}\n",
              "#T_3dd90_row2_col4 {\n",
              "  background-color: #8caffe;\n",
              "  color: #000000;\n",
              "}\n",
              "#T_3dd90_row2_col7, #T_3dd90_row6_col11, #T_3dd90_row8_col5 {\n",
              "  background-color: #5875e1;\n",
              "  color: #f1f1f1;\n",
              "}\n",
              "#T_3dd90_row2_col8 {\n",
              "  background-color: #485fd1;\n",
              "  color: #f1f1f1;\n",
              "}\n",
              "#T_3dd90_row2_col9 {\n",
              "  background-color: #5673e0;\n",
              "  color: #f1f1f1;\n",
              "}\n",
              "#T_3dd90_row2_col10, #T_3dd90_row3_col6 {\n",
              "  background-color: #d2dbe8;\n",
              "  color: #000000;\n",
              "}\n",
              "#T_3dd90_row2_col11 {\n",
              "  background-color: #abc8fd;\n",
              "  color: #000000;\n",
              "}\n",
              "#T_3dd90_row3_col0, #T_3dd90_row5_col1 {\n",
              "  background-color: #bed2f6;\n",
              "  color: #000000;\n",
              "}\n",
              "#T_3dd90_row3_col1 {\n",
              "  background-color: #c6d6f1;\n",
              "  color: #000000;\n",
              "}\n",
              "#T_3dd90_row3_col2 {\n",
              "  background-color: #a6c4fe;\n",
              "  color: #000000;\n",
              "}\n",
              "#T_3dd90_row3_col4 {\n",
              "  background-color: #6485ec;\n",
              "  color: #f1f1f1;\n",
              "}\n",
              "#T_3dd90_row3_col5, #T_3dd90_row10_col4 {\n",
              "  background-color: #799cf8;\n",
              "  color: #f1f1f1;\n",
              "}\n",
              "#T_3dd90_row3_col7 {\n",
              "  background-color: #7093f3;\n",
              "  color: #f1f1f1;\n",
              "}\n",
              "#T_3dd90_row3_col8, #T_3dd90_row8_col10, #T_3dd90_row11_col3 {\n",
              "  background-color: #4e68d8;\n",
              "  color: #f1f1f1;\n",
              "}\n",
              "#T_3dd90_row3_col10 {\n",
              "  background-color: #7ea1fa;\n",
              "  color: #f1f1f1;\n",
              "}\n",
              "#T_3dd90_row3_col11 {\n",
              "  background-color: #7597f6;\n",
              "  color: #f1f1f1;\n",
              "}\n",
              "#T_3dd90_row4_col0 {\n",
              "  background-color: #b2ccfb;\n",
              "  color: #000000;\n",
              "}\n",
              "#T_3dd90_row4_col1 {\n",
              "  background-color: #cbd8ee;\n",
              "  color: #000000;\n",
              "}\n",
              "#T_3dd90_row4_col2 {\n",
              "  background-color: #c9d7f0;\n",
              "  color: #000000;\n",
              "}\n",
              "#T_3dd90_row4_col3 {\n",
              "  background-color: #516ddb;\n",
              "  color: #f1f1f1;\n",
              "}\n",
              "#T_3dd90_row4_col10 {\n",
              "  background-color: #8badfd;\n",
              "  color: #000000;\n",
              "}\n",
              "#T_3dd90_row4_col11 {\n",
              "  background-color: #7da0f9;\n",
              "  color: #f1f1f1;\n",
              "}\n",
              "#T_3dd90_row5_col0 {\n",
              "  background-color: #b3cdfb;\n",
              "  color: #000000;\n",
              "}\n",
              "#T_3dd90_row5_col2 {\n",
              "  background-color: #a3c2fe;\n",
              "  color: #000000;\n",
              "}\n",
              "#T_3dd90_row5_col4 {\n",
              "  background-color: #3f53c6;\n",
              "  color: #f1f1f1;\n",
              "}\n",
              "#T_3dd90_row5_col7 {\n",
              "  background-color: #a2c1ff;\n",
              "  color: #000000;\n",
              "}\n",
              "#T_3dd90_row5_col9, #T_3dd90_row7_col5 {\n",
              "  background-color: #8fb1fe;\n",
              "  color: #000000;\n",
              "}\n",
              "#T_3dd90_row5_col11 {\n",
              "  background-color: #6180e9;\n",
              "  color: #f1f1f1;\n",
              "}\n",
              "#T_3dd90_row6_col0 {\n",
              "  background-color: #bfd3f6;\n",
              "  color: #000000;\n",
              "}\n",
              "#T_3dd90_row6_col2 {\n",
              "  background-color: #9bbcff;\n",
              "  color: #000000;\n",
              "}\n",
              "#T_3dd90_row6_col3 {\n",
              "  background-color: #ccd9ed;\n",
              "  color: #000000;\n",
              "}\n",
              "#T_3dd90_row6_col5 {\n",
              "  background-color: #6e90f2;\n",
              "  color: #f1f1f1;\n",
              "}\n",
              "#T_3dd90_row6_col7, #T_3dd90_row8_col1 {\n",
              "  background-color: #c3d5f4;\n",
              "  color: #000000;\n",
              "}\n",
              "#T_3dd90_row6_col9 {\n",
              "  background-color: #89acfd;\n",
              "  color: #000000;\n",
              "}\n",
              "#T_3dd90_row7_col0, #T_3dd90_row7_col6 {\n",
              "  background-color: #b1cbfc;\n",
              "  color: #000000;\n",
              "}\n",
              "#T_3dd90_row7_col1 {\n",
              "  background-color: #c7d7f0;\n",
              "  color: #000000;\n",
              "}\n",
              "#T_3dd90_row7_col2 {\n",
              "  background-color: #94b6ff;\n",
              "  color: #000000;\n",
              "}\n",
              "#T_3dd90_row7_col3 {\n",
              "  background-color: #4c66d6;\n",
              "  color: #f1f1f1;\n",
              "}\n",
              "#T_3dd90_row7_col8, #T_3dd90_row9_col8 {\n",
              "  background-color: #efcebd;\n",
              "  color: #000000;\n",
              "}\n",
              "#T_3dd90_row7_col9 {\n",
              "  background-color: #e67259;\n",
              "  color: #f1f1f1;\n",
              "}\n",
              "#T_3dd90_row7_col11, #T_3dd90_row9_col3, #T_3dd90_row9_col4 {\n",
              "  background-color: #3e51c5;\n",
              "  color: #f1f1f1;\n",
              "}\n",
              "#T_3dd90_row8_col0, #T_3dd90_row9_col1 {\n",
              "  background-color: #c1d4f4;\n",
              "  color: #000000;\n",
              "}\n",
              "#T_3dd90_row8_col2 {\n",
              "  background-color: #93b5fe;\n",
              "  color: #000000;\n",
              "}\n",
              "#T_3dd90_row8_col4 {\n",
              "  background-color: #455cce;\n",
              "  color: #f1f1f1;\n",
              "}\n",
              "#T_3dd90_row8_col6 {\n",
              "  background-color: #6687ed;\n",
              "  color: #f1f1f1;\n",
              "}\n",
              "#T_3dd90_row8_col7 {\n",
              "  background-color: #f2cab5;\n",
              "  color: #000000;\n",
              "}\n",
              "#T_3dd90_row8_col9 {\n",
              "  background-color: #f2cbb7;\n",
              "  color: #000000;\n",
              "}\n",
              "#T_3dd90_row8_col11 {\n",
              "  background-color: #4f69d9;\n",
              "  color: #f1f1f1;\n",
              "}\n",
              "#T_3dd90_row9_col0 {\n",
              "  background-color: #b7cff9;\n",
              "  color: #000000;\n",
              "}\n",
              "#T_3dd90_row9_col2 {\n",
              "  background-color: #97b8ff;\n",
              "  color: #000000;\n",
              "}\n",
              "#T_3dd90_row9_col5 {\n",
              "  background-color: #80a3fa;\n",
              "  color: #f1f1f1;\n",
              "}\n",
              "#T_3dd90_row9_col6 {\n",
              "  background-color: #7699f6;\n",
              "  color: #f1f1f1;\n",
              "}\n",
              "#T_3dd90_row9_col7 {\n",
              "  background-color: #e57058;\n",
              "  color: #f1f1f1;\n",
              "}\n",
              "#T_3dd90_row9_col10, #T_3dd90_row10_col5 {\n",
              "  background-color: #4358cb;\n",
              "  color: #f1f1f1;\n",
              "}\n",
              "#T_3dd90_row9_col11 {\n",
              "  background-color: #445acc;\n",
              "  color: #f1f1f1;\n",
              "}\n",
              "#T_3dd90_row10_col0 {\n",
              "  background-color: #98b9ff;\n",
              "  color: #000000;\n",
              "}\n",
              "#T_3dd90_row10_col1 {\n",
              "  background-color: #ead5c9;\n",
              "  color: #000000;\n",
              "}\n",
              "#T_3dd90_row10_col2 {\n",
              "  background-color: #ebd3c6;\n",
              "  color: #000000;\n",
              "}\n",
              "#T_3dd90_row10_col3 {\n",
              "  background-color: #5a78e4;\n",
              "  color: #f1f1f1;\n",
              "}\n",
              "#T_3dd90_row10_col8 {\n",
              "  background-color: #3c4ec2;\n",
              "  color: #f1f1f1;\n",
              "}\n",
              "#T_3dd90_row10_col9 {\n",
              "  background-color: #3d50c3;\n",
              "  color: #f1f1f1;\n",
              "}\n",
              "#T_3dd90_row10_col11 {\n",
              "  background-color: #edd1c2;\n",
              "  color: #000000;\n",
              "}\n",
              "#T_3dd90_row11_col0 {\n",
              "  background-color: #96b7ff;\n",
              "  color: #000000;\n",
              "}\n",
              "#T_3dd90_row11_col1 {\n",
              "  background-color: #ead4c8;\n",
              "  color: #000000;\n",
              "}\n",
              "#T_3dd90_row11_col2 {\n",
              "  background-color: #d1dae9;\n",
              "  color: #000000;\n",
              "}\n",
              "#T_3dd90_row11_col4 {\n",
              "  background-color: #688aef;\n",
              "  color: #f1f1f1;\n",
              "}\n",
              "#T_3dd90_row11_col10 {\n",
              "  background-color: #edd2c3;\n",
              "  color: #000000;\n",
              "}\n",
              "</style>\n",
              "<table id=\"T_3dd90\" class=\"dataframe\">\n",
              "  <thead>\n",
              "    <tr>\n",
              "      <th class=\"blank level0\" >&nbsp;</th>\n",
              "      <th id=\"T_3dd90_level0_col0\" class=\"col_heading level0 col0\" >rank</th>\n",
              "      <th id=\"T_3dd90_level0_col1\" class=\"col_heading level0 col1\" >subscribers</th>\n",
              "      <th id=\"T_3dd90_level0_col2\" class=\"col_heading level0 col2\" >video_views</th>\n",
              "      <th id=\"T_3dd90_level0_col3\" class=\"col_heading level0 col3\" >category</th>\n",
              "      <th id=\"T_3dd90_level0_col4\" class=\"col_heading level0 col4\" >uploads</th>\n",
              "      <th id=\"T_3dd90_level0_col5\" class=\"col_heading level0 col5\" >country</th>\n",
              "      <th id=\"T_3dd90_level0_col6\" class=\"col_heading level0 col6\" >channel_type</th>\n",
              "      <th id=\"T_3dd90_level0_col7\" class=\"col_heading level0 col7\" >video_views_rank</th>\n",
              "      <th id=\"T_3dd90_level0_col8\" class=\"col_heading level0 col8\" >country_rank</th>\n",
              "      <th id=\"T_3dd90_level0_col9\" class=\"col_heading level0 col9\" >channel_type_rank</th>\n",
              "      <th id=\"T_3dd90_level0_col10\" class=\"col_heading level0 col10\" >video_views_last_30_days</th>\n",
              "      <th id=\"T_3dd90_level0_col11\" class=\"col_heading level0 col11\" >subscribers_last_30_days</th>\n",
              "    </tr>\n",
              "  </thead>\n",
              "  <tbody>\n",
              "    <tr>\n",
              "      <th id=\"T_3dd90_level0_row0\" class=\"row_heading level0 row0\" >rank</th>\n",
              "      <td id=\"T_3dd90_row0_col0\" class=\"data row0 col0\" >1.000000</td>\n",
              "      <td id=\"T_3dd90_row0_col1\" class=\"data row0 col1\" >-0.640608</td>\n",
              "      <td id=\"T_3dd90_row0_col2\" class=\"data row0 col2\" >-0.453363</td>\n",
              "      <td id=\"T_3dd90_row0_col3\" class=\"data row0 col3\" >0.002896</td>\n",
              "      <td id=\"T_3dd90_row0_col4\" class=\"data row0 col4\" >-0.051036</td>\n",
              "      <td id=\"T_3dd90_row0_col5\" class=\"data row0 col5\" >-0.045467</td>\n",
              "      <td id=\"T_3dd90_row0_col6\" class=\"data row0 col6\" >0.011020</td>\n",
              "      <td id=\"T_3dd90_row0_col7\" class=\"data row0 col7\" >-0.059768</td>\n",
              "      <td id=\"T_3dd90_row0_col8\" class=\"data row0 col8\" >0.022122</td>\n",
              "      <td id=\"T_3dd90_row0_col9\" class=\"data row0 col9\" >-0.026728</td>\n",
              "      <td id=\"T_3dd90_row0_col10\" class=\"data row0 col10\" >-0.178444</td>\n",
              "      <td id=\"T_3dd90_row0_col11\" class=\"data row0 col11\" >-0.191666</td>\n",
              "    </tr>\n",
              "    <tr>\n",
              "      <th id=\"T_3dd90_level0_row1\" class=\"row_heading level0 row1\" >subscribers</th>\n",
              "      <td id=\"T_3dd90_row1_col0\" class=\"data row1 col0\" >-0.640608</td>\n",
              "      <td id=\"T_3dd90_row1_col1\" class=\"data row1 col1\" >1.000000</td>\n",
              "      <td id=\"T_3dd90_row1_col2\" class=\"data row1 col2\" >0.750958</td>\n",
              "      <td id=\"T_3dd90_row1_col3\" class=\"data row1 col3\" >0.045180</td>\n",
              "      <td id=\"T_3dd90_row1_col4\" class=\"data row1 col4\" >0.077136</td>\n",
              "      <td id=\"T_3dd90_row1_col5\" class=\"data row1 col5\" >0.006151</td>\n",
              "      <td id=\"T_3dd90_row1_col6\" class=\"data row1 col6\" >-0.015517</td>\n",
              "      <td id=\"T_3dd90_row1_col7\" class=\"data row1 col7\" >0.057388</td>\n",
              "      <td id=\"T_3dd90_row1_col8\" class=\"data row1 col8\" >0.029136</td>\n",
              "      <td id=\"T_3dd90_row1_col9\" class=\"data row1 col9\" >0.025103</td>\n",
              "      <td id=\"T_3dd90_row1_col10\" class=\"data row1 col10\" >0.268556</td>\n",
              "      <td id=\"T_3dd90_row1_col11\" class=\"data row1 col11\" >0.273450</td>\n",
              "    </tr>\n",
              "    <tr>\n",
              "      <th id=\"T_3dd90_level0_row2\" class=\"row_heading level0 row2\" >video_views</th>\n",
              "      <td id=\"T_3dd90_row2_col0\" class=\"data row2 col0\" >-0.453363</td>\n",
              "      <td id=\"T_3dd90_row2_col1\" class=\"data row2 col1\" >0.750958</td>\n",
              "      <td id=\"T_3dd90_row2_col2\" class=\"data row2 col2\" >1.000000</td>\n",
              "      <td id=\"T_3dd90_row2_col3\" class=\"data row2 col3\" >0.017769</td>\n",
              "      <td id=\"T_3dd90_row2_col4\" class=\"data row2 col4\" >0.165928</td>\n",
              "      <td id=\"T_3dd90_row2_col5\" class=\"data row2 col5\" >0.003520</td>\n",
              "      <td id=\"T_3dd90_row2_col6\" class=\"data row2 col6\" >-0.030372</td>\n",
              "      <td id=\"T_3dd90_row2_col7\" class=\"data row2 col7\" >-0.061541</td>\n",
              "      <td id=\"T_3dd90_row2_col8\" class=\"data row2 col8\" >-0.062024</td>\n",
              "      <td id=\"T_3dd90_row2_col9\" class=\"data row2 col9\" >-0.046935</td>\n",
              "      <td id=\"T_3dd90_row2_col10\" class=\"data row2 col10\" >0.364076</td>\n",
              "      <td id=\"T_3dd90_row2_col11\" class=\"data row2 col11\" >0.210308</td>\n",
              "    </tr>\n",
              "    <tr>\n",
              "      <th id=\"T_3dd90_level0_row3\" class=\"row_heading level0 row3\" >category</th>\n",
              "      <td id=\"T_3dd90_row3_col0\" class=\"data row3 col0\" >0.002896</td>\n",
              "      <td id=\"T_3dd90_row3_col1\" class=\"data row3 col1\" >0.045180</td>\n",
              "      <td id=\"T_3dd90_row3_col2\" class=\"data row3 col2\" >0.017769</td>\n",
              "      <td id=\"T_3dd90_row3_col3\" class=\"data row3 col3\" >1.000000</td>\n",
              "      <td id=\"T_3dd90_row3_col4\" class=\"data row3 col4\" >0.039610</td>\n",
              "      <td id=\"T_3dd90_row3_col5\" class=\"data row3 col5\" >0.120881</td>\n",
              "      <td id=\"T_3dd90_row3_col6\" class=\"data row3 col6\" >0.417583</td>\n",
              "      <td id=\"T_3dd90_row3_col7\" class=\"data row3 col7\" >0.024115</td>\n",
              "      <td id=\"T_3dd90_row3_col8\" class=\"data row3 col8\" >-0.040511</td>\n",
              "      <td id=\"T_3dd90_row3_col9\" class=\"data row3 col9\" >-0.026442</td>\n",
              "      <td id=\"T_3dd90_row3_col10\" class=\"data row3 col10\" >0.066245</td>\n",
              "      <td id=\"T_3dd90_row3_col11\" class=\"data row3 col11\" >0.025586</td>\n",
              "    </tr>\n",
              "    <tr>\n",
              "      <th id=\"T_3dd90_level0_row4\" class=\"row_heading level0 row4\" >uploads</th>\n",
              "      <td id=\"T_3dd90_row4_col0\" class=\"data row4 col0\" >-0.051036</td>\n",
              "      <td id=\"T_3dd90_row4_col1\" class=\"data row4 col1\" >0.077136</td>\n",
              "      <td id=\"T_3dd90_row4_col2\" class=\"data row4 col2\" >0.165928</td>\n",
              "      <td id=\"T_3dd90_row4_col3\" class=\"data row4 col3\" >0.039610</td>\n",
              "      <td id=\"T_3dd90_row4_col4\" class=\"data row4 col4\" >1.000000</td>\n",
              "      <td id=\"T_3dd90_row4_col5\" class=\"data row4 col5\" >-0.090093</td>\n",
              "      <td id=\"T_3dd90_row4_col6\" class=\"data row4 col6\" >0.031722</td>\n",
              "      <td id=\"T_3dd90_row4_col7\" class=\"data row4 col7\" >-0.108865</td>\n",
              "      <td id=\"T_3dd90_row4_col8\" class=\"data row4 col8\" >-0.067727</td>\n",
              "      <td id=\"T_3dd90_row4_col9\" class=\"data row4 col9\" >-0.094620</td>\n",
              "      <td id=\"T_3dd90_row4_col10\" class=\"data row4 col10\" >0.107344</td>\n",
              "      <td id=\"T_3dd90_row4_col11\" class=\"data row4 col11\" >0.051745</td>\n",
              "    </tr>\n",
              "    <tr>\n",
              "      <th id=\"T_3dd90_level0_row5\" class=\"row_heading level0 row5\" >country</th>\n",
              "      <td id=\"T_3dd90_row5_col0\" class=\"data row5 col0\" >-0.045467</td>\n",
              "      <td id=\"T_3dd90_row5_col1\" class=\"data row5 col1\" >0.006151</td>\n",
              "      <td id=\"T_3dd90_row5_col2\" class=\"data row5 col2\" >0.003520</td>\n",
              "      <td id=\"T_3dd90_row5_col3\" class=\"data row5 col3\" >0.120881</td>\n",
              "      <td id=\"T_3dd90_row5_col4\" class=\"data row5 col4\" >-0.090093</td>\n",
              "      <td id=\"T_3dd90_row5_col5\" class=\"data row5 col5\" >1.000000</td>\n",
              "      <td id=\"T_3dd90_row5_col6\" class=\"data row5 col6\" >0.088489</td>\n",
              "      <td id=\"T_3dd90_row5_col7\" class=\"data row5 col7\" >0.190371</td>\n",
              "      <td id=\"T_3dd90_row5_col8\" class=\"data row5 col8\" >0.014888</td>\n",
              "      <td id=\"T_3dd90_row5_col9\" class=\"data row5 col9\" >0.141107</td>\n",
              "      <td id=\"T_3dd90_row5_col10\" class=\"data row5 col10\" >-0.059569</td>\n",
              "      <td id=\"T_3dd90_row5_col11\" class=\"data row5 col11\" >-0.046033</td>\n",
              "    </tr>\n",
              "    <tr>\n",
              "      <th id=\"T_3dd90_level0_row6\" class=\"row_heading level0 row6\" >channel_type</th>\n",
              "      <td id=\"T_3dd90_row6_col0\" class=\"data row6 col0\" >0.011020</td>\n",
              "      <td id=\"T_3dd90_row6_col1\" class=\"data row6 col1\" >-0.015517</td>\n",
              "      <td id=\"T_3dd90_row6_col2\" class=\"data row6 col2\" >-0.030372</td>\n",
              "      <td id=\"T_3dd90_row6_col3\" class=\"data row6 col3\" >0.417583</td>\n",
              "      <td id=\"T_3dd90_row6_col4\" class=\"data row6 col4\" >0.031722</td>\n",
              "      <td id=\"T_3dd90_row6_col5\" class=\"data row6 col5\" >0.088489</td>\n",
              "      <td id=\"T_3dd90_row6_col6\" class=\"data row6 col6\" >1.000000</td>\n",
              "      <td id=\"T_3dd90_row6_col7\" class=\"data row6 col7\" >0.304161</td>\n",
              "      <td id=\"T_3dd90_row6_col8\" class=\"data row6 col8\" >0.073246</td>\n",
              "      <td id=\"T_3dd90_row6_col9\" class=\"data row6 col9\" >0.122452</td>\n",
              "      <td id=\"T_3dd90_row6_col10\" class=\"data row6 col10\" >-0.075181</td>\n",
              "      <td id=\"T_3dd90_row6_col11\" class=\"data row6 col11\" >-0.075512</td>\n",
              "    </tr>\n",
              "    <tr>\n",
              "      <th id=\"T_3dd90_level0_row7\" class=\"row_heading level0 row7\" >video_views_rank</th>\n",
              "      <td id=\"T_3dd90_row7_col0\" class=\"data row7 col0\" >-0.059768</td>\n",
              "      <td id=\"T_3dd90_row7_col1\" class=\"data row7 col1\" >0.057388</td>\n",
              "      <td id=\"T_3dd90_row7_col2\" class=\"data row7 col2\" >-0.061541</td>\n",
              "      <td id=\"T_3dd90_row7_col3\" class=\"data row7 col3\" >0.024115</td>\n",
              "      <td id=\"T_3dd90_row7_col4\" class=\"data row7 col4\" >-0.108865</td>\n",
              "      <td id=\"T_3dd90_row7_col5\" class=\"data row7 col5\" >0.190371</td>\n",
              "      <td id=\"T_3dd90_row7_col6\" class=\"data row7 col6\" >0.304161</td>\n",
              "      <td id=\"T_3dd90_row7_col7\" class=\"data row7 col7\" >1.000000</td>\n",
              "      <td id=\"T_3dd90_row7_col8\" class=\"data row7 col8\" >0.535202</td>\n",
              "      <td id=\"T_3dd90_row7_col9\" class=\"data row7 col9\" >0.812766</td>\n",
              "      <td id=\"T_3dd90_row7_col10\" class=\"data row7 col10\" >-0.113343</td>\n",
              "      <td id=\"T_3dd90_row7_col11\" class=\"data row7 col11\" >-0.175407</td>\n",
              "    </tr>\n",
              "    <tr>\n",
              "      <th id=\"T_3dd90_level0_row8\" class=\"row_heading level0 row8\" >country_rank</th>\n",
              "      <td id=\"T_3dd90_row8_col0\" class=\"data row8 col0\" >0.022122</td>\n",
              "      <td id=\"T_3dd90_row8_col1\" class=\"data row8 col1\" >0.029136</td>\n",
              "      <td id=\"T_3dd90_row8_col2\" class=\"data row8 col2\" >-0.062024</td>\n",
              "      <td id=\"T_3dd90_row8_col3\" class=\"data row8 col3\" >-0.040511</td>\n",
              "      <td id=\"T_3dd90_row8_col4\" class=\"data row8 col4\" >-0.067727</td>\n",
              "      <td id=\"T_3dd90_row8_col5\" class=\"data row8 col5\" >0.014888</td>\n",
              "      <td id=\"T_3dd90_row8_col6\" class=\"data row8 col6\" >0.073246</td>\n",
              "      <td id=\"T_3dd90_row8_col7\" class=\"data row8 col7\" >0.535202</td>\n",
              "      <td id=\"T_3dd90_row8_col8\" class=\"data row8 col8\" >1.000000</td>\n",
              "      <td id=\"T_3dd90_row8_col9\" class=\"data row8 col9\" >0.537084</td>\n",
              "      <td id=\"T_3dd90_row8_col10\" class=\"data row8 col10\" >-0.103833</td>\n",
              "      <td id=\"T_3dd90_row8_col11\" class=\"data row8 col11\" >-0.112267</td>\n",
              "    </tr>\n",
              "    <tr>\n",
              "      <th id=\"T_3dd90_level0_row9\" class=\"row_heading level0 row9\" >channel_type_rank</th>\n",
              "      <td id=\"T_3dd90_row9_col0\" class=\"data row9 col0\" >-0.026728</td>\n",
              "      <td id=\"T_3dd90_row9_col1\" class=\"data row9 col1\" >0.025103</td>\n",
              "      <td id=\"T_3dd90_row9_col2\" class=\"data row9 col2\" >-0.046935</td>\n",
              "      <td id=\"T_3dd90_row9_col3\" class=\"data row9 col3\" >-0.026442</td>\n",
              "      <td id=\"T_3dd90_row9_col4\" class=\"data row9 col4\" >-0.094620</td>\n",
              "      <td id=\"T_3dd90_row9_col5\" class=\"data row9 col5\" >0.141107</td>\n",
              "      <td id=\"T_3dd90_row9_col6\" class=\"data row9 col6\" >0.122452</td>\n",
              "      <td id=\"T_3dd90_row9_col7\" class=\"data row9 col7\" >0.812766</td>\n",
              "      <td id=\"T_3dd90_row9_col8\" class=\"data row9 col8\" >0.537084</td>\n",
              "      <td id=\"T_3dd90_row9_col9\" class=\"data row9 col9\" >1.000000</td>\n",
              "      <td id=\"T_3dd90_row9_col10\" class=\"data row9 col10\" >-0.141811</td>\n",
              "      <td id=\"T_3dd90_row9_col11\" class=\"data row9 col11\" >-0.154111</td>\n",
              "    </tr>\n",
              "    <tr>\n",
              "      <th id=\"T_3dd90_level0_row10\" class=\"row_heading level0 row10\" >video_views_last_30_days</th>\n",
              "      <td id=\"T_3dd90_row10_col0\" class=\"data row10 col0\" >-0.178444</td>\n",
              "      <td id=\"T_3dd90_row10_col1\" class=\"data row10 col1\" >0.268556</td>\n",
              "      <td id=\"T_3dd90_row10_col2\" class=\"data row10 col2\" >0.364076</td>\n",
              "      <td id=\"T_3dd90_row10_col3\" class=\"data row10 col3\" >0.066245</td>\n",
              "      <td id=\"T_3dd90_row10_col4\" class=\"data row10 col4\" >0.107344</td>\n",
              "      <td id=\"T_3dd90_row10_col5\" class=\"data row10 col5\" >-0.059569</td>\n",
              "      <td id=\"T_3dd90_row10_col6\" class=\"data row10 col6\" >-0.075181</td>\n",
              "      <td id=\"T_3dd90_row10_col7\" class=\"data row10 col7\" >-0.113343</td>\n",
              "      <td id=\"T_3dd90_row10_col8\" class=\"data row10 col8\" >-0.103833</td>\n",
              "      <td id=\"T_3dd90_row10_col9\" class=\"data row10 col9\" >-0.141811</td>\n",
              "      <td id=\"T_3dd90_row10_col10\" class=\"data row10 col10\" >1.000000</td>\n",
              "      <td id=\"T_3dd90_row10_col11\" class=\"data row10 col11\" >0.491186</td>\n",
              "    </tr>\n",
              "    <tr>\n",
              "      <th id=\"T_3dd90_level0_row11\" class=\"row_heading level0 row11\" >subscribers_last_30_days</th>\n",
              "      <td id=\"T_3dd90_row11_col0\" class=\"data row11 col0\" >-0.191666</td>\n",
              "      <td id=\"T_3dd90_row11_col1\" class=\"data row11 col1\" >0.273450</td>\n",
              "      <td id=\"T_3dd90_row11_col2\" class=\"data row11 col2\" >0.210308</td>\n",
              "      <td id=\"T_3dd90_row11_col3\" class=\"data row11 col3\" >0.025586</td>\n",
              "      <td id=\"T_3dd90_row11_col4\" class=\"data row11 col4\" >0.051745</td>\n",
              "      <td id=\"T_3dd90_row11_col5\" class=\"data row11 col5\" >-0.046033</td>\n",
              "      <td id=\"T_3dd90_row11_col6\" class=\"data row11 col6\" >-0.075512</td>\n",
              "      <td id=\"T_3dd90_row11_col7\" class=\"data row11 col7\" >-0.175407</td>\n",
              "      <td id=\"T_3dd90_row11_col8\" class=\"data row11 col8\" >-0.112267</td>\n",
              "      <td id=\"T_3dd90_row11_col9\" class=\"data row11 col9\" >-0.154111</td>\n",
              "      <td id=\"T_3dd90_row11_col10\" class=\"data row11 col10\" >0.491186</td>\n",
              "      <td id=\"T_3dd90_row11_col11\" class=\"data row11 col11\" >1.000000</td>\n",
              "    </tr>\n",
              "  </tbody>\n",
              "</table>\n"
            ]
          },
          "metadata": {},
          "execution_count": 99
        }
      ]
    },
    {
      "cell_type": "markdown",
      "source": [
        "# Utilizando o pycaret para gerar o melhor modelo"
      ],
      "metadata": {
        "id": "OysZVaB1ec8j"
      }
    },
    {
      "cell_type": "markdown",
      "source": [
        "## Importações necessario"
      ],
      "metadata": {
        "id": "d2Zih6qjehwj"
      }
    },
    {
      "cell_type": "code",
      "source": [
        "from pycaret.regression import *"
      ],
      "metadata": {
        "id": "qgEPPtsIUk8K"
      },
      "execution_count": 100,
      "outputs": []
    },
    {
      "cell_type": "markdown",
      "source": [
        "## Definir o nosso setu do dataset e a coluna target"
      ],
      "metadata": {
        "id": "uEaWFdjGenIz"
      }
    },
    {
      "cell_type": "code",
      "source": [
        "s = setup(\n",
        "    data=df,\n",
        "    target='rank',\n",
        "    fold=5\n",
        ")"
      ],
      "metadata": {
        "colab": {
          "base_uri": "https://localhost:8080/",
          "height": 645
        },
        "id": "90FQy00fUy_A",
        "outputId": "6ebdd47a-caa5-427b-e4e4-3ae43fb5e203"
      },
      "execution_count": 101,
      "outputs": [
        {
          "output_type": "display_data",
          "data": {
            "text/plain": [
              "<pandas.io.formats.style.Styler at 0x7c4e008dc160>"
            ],
            "text/html": [
              "<style type=\"text/css\">\n",
              "#T_84243_row8_col1 {\n",
              "  background-color: lightgreen;\n",
              "}\n",
              "</style>\n",
              "<table id=\"T_84243\" class=\"dataframe\">\n",
              "  <thead>\n",
              "    <tr>\n",
              "      <th class=\"blank level0\" >&nbsp;</th>\n",
              "      <th id=\"T_84243_level0_col0\" class=\"col_heading level0 col0\" >Description</th>\n",
              "      <th id=\"T_84243_level0_col1\" class=\"col_heading level0 col1\" >Value</th>\n",
              "    </tr>\n",
              "  </thead>\n",
              "  <tbody>\n",
              "    <tr>\n",
              "      <th id=\"T_84243_level0_row0\" class=\"row_heading level0 row0\" >0</th>\n",
              "      <td id=\"T_84243_row0_col0\" class=\"data row0 col0\" >Session id</td>\n",
              "      <td id=\"T_84243_row0_col1\" class=\"data row0 col1\" >4969</td>\n",
              "    </tr>\n",
              "    <tr>\n",
              "      <th id=\"T_84243_level0_row1\" class=\"row_heading level0 row1\" >1</th>\n",
              "      <td id=\"T_84243_row1_col0\" class=\"data row1 col0\" >Target</td>\n",
              "      <td id=\"T_84243_row1_col1\" class=\"data row1 col1\" >rank</td>\n",
              "    </tr>\n",
              "    <tr>\n",
              "      <th id=\"T_84243_level0_row2\" class=\"row_heading level0 row2\" >2</th>\n",
              "      <td id=\"T_84243_row2_col0\" class=\"data row2 col0\" >Target type</td>\n",
              "      <td id=\"T_84243_row2_col1\" class=\"data row2 col1\" >Regression</td>\n",
              "    </tr>\n",
              "    <tr>\n",
              "      <th id=\"T_84243_level0_row3\" class=\"row_heading level0 row3\" >3</th>\n",
              "      <td id=\"T_84243_row3_col0\" class=\"data row3 col0\" >Original data shape</td>\n",
              "      <td id=\"T_84243_row3_col1\" class=\"data row3 col1\" >(995, 12)</td>\n",
              "    </tr>\n",
              "    <tr>\n",
              "      <th id=\"T_84243_level0_row4\" class=\"row_heading level0 row4\" >4</th>\n",
              "      <td id=\"T_84243_row4_col0\" class=\"data row4 col0\" >Transformed data shape</td>\n",
              "      <td id=\"T_84243_row4_col1\" class=\"data row4 col1\" >(995, 12)</td>\n",
              "    </tr>\n",
              "    <tr>\n",
              "      <th id=\"T_84243_level0_row5\" class=\"row_heading level0 row5\" >5</th>\n",
              "      <td id=\"T_84243_row5_col0\" class=\"data row5 col0\" >Transformed train set shape</td>\n",
              "      <td id=\"T_84243_row5_col1\" class=\"data row5 col1\" >(696, 12)</td>\n",
              "    </tr>\n",
              "    <tr>\n",
              "      <th id=\"T_84243_level0_row6\" class=\"row_heading level0 row6\" >6</th>\n",
              "      <td id=\"T_84243_row6_col0\" class=\"data row6 col0\" >Transformed test set shape</td>\n",
              "      <td id=\"T_84243_row6_col1\" class=\"data row6 col1\" >(299, 12)</td>\n",
              "    </tr>\n",
              "    <tr>\n",
              "      <th id=\"T_84243_level0_row7\" class=\"row_heading level0 row7\" >7</th>\n",
              "      <td id=\"T_84243_row7_col0\" class=\"data row7 col0\" >Numeric features</td>\n",
              "      <td id=\"T_84243_row7_col1\" class=\"data row7 col1\" >11</td>\n",
              "    </tr>\n",
              "    <tr>\n",
              "      <th id=\"T_84243_level0_row8\" class=\"row_heading level0 row8\" >8</th>\n",
              "      <td id=\"T_84243_row8_col0\" class=\"data row8 col0\" >Preprocess</td>\n",
              "      <td id=\"T_84243_row8_col1\" class=\"data row8 col1\" >True</td>\n",
              "    </tr>\n",
              "    <tr>\n",
              "      <th id=\"T_84243_level0_row9\" class=\"row_heading level0 row9\" >9</th>\n",
              "      <td id=\"T_84243_row9_col0\" class=\"data row9 col0\" >Imputation type</td>\n",
              "      <td id=\"T_84243_row9_col1\" class=\"data row9 col1\" >simple</td>\n",
              "    </tr>\n",
              "    <tr>\n",
              "      <th id=\"T_84243_level0_row10\" class=\"row_heading level0 row10\" >10</th>\n",
              "      <td id=\"T_84243_row10_col0\" class=\"data row10 col0\" >Numeric imputation</td>\n",
              "      <td id=\"T_84243_row10_col1\" class=\"data row10 col1\" >mean</td>\n",
              "    </tr>\n",
              "    <tr>\n",
              "      <th id=\"T_84243_level0_row11\" class=\"row_heading level0 row11\" >11</th>\n",
              "      <td id=\"T_84243_row11_col0\" class=\"data row11 col0\" >Categorical imputation</td>\n",
              "      <td id=\"T_84243_row11_col1\" class=\"data row11 col1\" >mode</td>\n",
              "    </tr>\n",
              "    <tr>\n",
              "      <th id=\"T_84243_level0_row12\" class=\"row_heading level0 row12\" >12</th>\n",
              "      <td id=\"T_84243_row12_col0\" class=\"data row12 col0\" >Fold Generator</td>\n",
              "      <td id=\"T_84243_row12_col1\" class=\"data row12 col1\" >KFold</td>\n",
              "    </tr>\n",
              "    <tr>\n",
              "      <th id=\"T_84243_level0_row13\" class=\"row_heading level0 row13\" >13</th>\n",
              "      <td id=\"T_84243_row13_col0\" class=\"data row13 col0\" >Fold Number</td>\n",
              "      <td id=\"T_84243_row13_col1\" class=\"data row13 col1\" >5</td>\n",
              "    </tr>\n",
              "    <tr>\n",
              "      <th id=\"T_84243_level0_row14\" class=\"row_heading level0 row14\" >14</th>\n",
              "      <td id=\"T_84243_row14_col0\" class=\"data row14 col0\" >CPU Jobs</td>\n",
              "      <td id=\"T_84243_row14_col1\" class=\"data row14 col1\" >-1</td>\n",
              "    </tr>\n",
              "    <tr>\n",
              "      <th id=\"T_84243_level0_row15\" class=\"row_heading level0 row15\" >15</th>\n",
              "      <td id=\"T_84243_row15_col0\" class=\"data row15 col0\" >Use GPU</td>\n",
              "      <td id=\"T_84243_row15_col1\" class=\"data row15 col1\" >False</td>\n",
              "    </tr>\n",
              "    <tr>\n",
              "      <th id=\"T_84243_level0_row16\" class=\"row_heading level0 row16\" >16</th>\n",
              "      <td id=\"T_84243_row16_col0\" class=\"data row16 col0\" >Log Experiment</td>\n",
              "      <td id=\"T_84243_row16_col1\" class=\"data row16 col1\" >False</td>\n",
              "    </tr>\n",
              "    <tr>\n",
              "      <th id=\"T_84243_level0_row17\" class=\"row_heading level0 row17\" >17</th>\n",
              "      <td id=\"T_84243_row17_col0\" class=\"data row17 col0\" >Experiment Name</td>\n",
              "      <td id=\"T_84243_row17_col1\" class=\"data row17 col1\" >reg-default-name</td>\n",
              "    </tr>\n",
              "    <tr>\n",
              "      <th id=\"T_84243_level0_row18\" class=\"row_heading level0 row18\" >18</th>\n",
              "      <td id=\"T_84243_row18_col0\" class=\"data row18 col0\" >USI</td>\n",
              "      <td id=\"T_84243_row18_col1\" class=\"data row18 col1\" >d871</td>\n",
              "    </tr>\n",
              "  </tbody>\n",
              "</table>\n"
            ]
          },
          "metadata": {}
        }
      ]
    },
    {
      "cell_type": "markdown",
      "source": [
        "## Comparando os modelos gerados"
      ],
      "metadata": {
        "id": "MTHtjnYqev4B"
      }
    },
    {
      "cell_type": "code",
      "source": [
        "best_model = compare_models()"
      ],
      "metadata": {
        "colab": {
          "base_uri": "https://localhost:8080/",
          "height": 676,
          "referenced_widgets": [
            "369df629732f42159346f490a078e1aa",
            "e4fa6dd936084323a7fce6bb4fd79d69",
            "01516cecbbd147a591f516f2ec8eeb9c",
            "80222e1a3bce4d37bc31553e955c62aa",
            "9502361a8bd3454783c40fe4a8cecca7",
            "a4ebc109157d450fbd08924e3e9a1b23",
            "b5b7101d4aff44acabfff4c8b7d8f1a9",
            "63a775cec8dc4a35af25efd4ac2c0fa9",
            "11a2235e0cdf4782a282e5eca69eccbc",
            "d14dbc6f90c7421babde177271a72e05",
            "e595fef8ea8b49d7b789b4f43ad46eba"
          ]
        },
        "id": "V6rwYmfhWm0L",
        "outputId": "6e053da8-5e6c-46f3-8cba-454c77e28d92"
      },
      "execution_count": 102,
      "outputs": [
        {
          "output_type": "display_data",
          "data": {
            "text/plain": [
              "<IPython.core.display.HTML object>"
            ],
            "text/html": []
          },
          "metadata": {}
        },
        {
          "output_type": "display_data",
          "data": {
            "text/plain": [
              "<pandas.io.formats.style.Styler at 0x7c4e00e67be0>"
            ],
            "text/html": [
              "<style type=\"text/css\">\n",
              "#T_ee919 th {\n",
              "  text-align: left;\n",
              "}\n",
              "#T_ee919_row0_col0, #T_ee919_row0_col5, #T_ee919_row1_col0, #T_ee919_row1_col1, #T_ee919_row1_col2, #T_ee919_row1_col3, #T_ee919_row1_col4, #T_ee919_row1_col5, #T_ee919_row1_col6, #T_ee919_row2_col0, #T_ee919_row2_col1, #T_ee919_row2_col2, #T_ee919_row2_col3, #T_ee919_row2_col4, #T_ee919_row2_col5, #T_ee919_row2_col6, #T_ee919_row3_col0, #T_ee919_row3_col1, #T_ee919_row3_col2, #T_ee919_row3_col3, #T_ee919_row3_col4, #T_ee919_row3_col5, #T_ee919_row3_col6, #T_ee919_row4_col0, #T_ee919_row4_col1, #T_ee919_row4_col2, #T_ee919_row4_col3, #T_ee919_row4_col4, #T_ee919_row4_col6, #T_ee919_row5_col0, #T_ee919_row5_col1, #T_ee919_row5_col2, #T_ee919_row5_col3, #T_ee919_row5_col4, #T_ee919_row5_col5, #T_ee919_row5_col6, #T_ee919_row6_col0, #T_ee919_row6_col1, #T_ee919_row6_col2, #T_ee919_row6_col3, #T_ee919_row6_col4, #T_ee919_row6_col5, #T_ee919_row6_col6, #T_ee919_row7_col0, #T_ee919_row7_col1, #T_ee919_row7_col2, #T_ee919_row7_col3, #T_ee919_row7_col4, #T_ee919_row7_col5, #T_ee919_row7_col6, #T_ee919_row8_col0, #T_ee919_row8_col1, #T_ee919_row8_col2, #T_ee919_row8_col3, #T_ee919_row8_col4, #T_ee919_row8_col5, #T_ee919_row8_col6, #T_ee919_row9_col0, #T_ee919_row9_col1, #T_ee919_row9_col2, #T_ee919_row9_col3, #T_ee919_row9_col4, #T_ee919_row9_col5, #T_ee919_row9_col6, #T_ee919_row10_col0, #T_ee919_row10_col1, #T_ee919_row10_col2, #T_ee919_row10_col3, #T_ee919_row10_col4, #T_ee919_row10_col5, #T_ee919_row10_col6, #T_ee919_row11_col0, #T_ee919_row11_col1, #T_ee919_row11_col2, #T_ee919_row11_col3, #T_ee919_row11_col4, #T_ee919_row11_col5, #T_ee919_row11_col6, #T_ee919_row12_col0, #T_ee919_row12_col1, #T_ee919_row12_col2, #T_ee919_row12_col3, #T_ee919_row12_col4, #T_ee919_row12_col5, #T_ee919_row12_col6, #T_ee919_row13_col0, #T_ee919_row13_col1, #T_ee919_row13_col2, #T_ee919_row13_col3, #T_ee919_row13_col4, #T_ee919_row13_col5, #T_ee919_row13_col6, #T_ee919_row14_col0, #T_ee919_row14_col1, #T_ee919_row14_col2, #T_ee919_row14_col3, #T_ee919_row14_col4, #T_ee919_row14_col5, #T_ee919_row14_col6, #T_ee919_row15_col0, #T_ee919_row15_col1, #T_ee919_row15_col2, #T_ee919_row15_col3, #T_ee919_row15_col4, #T_ee919_row15_col5, #T_ee919_row15_col6, #T_ee919_row16_col0, #T_ee919_row16_col1, #T_ee919_row16_col2, #T_ee919_row16_col3, #T_ee919_row16_col4, #T_ee919_row16_col5, #T_ee919_row16_col6, #T_ee919_row17_col0, #T_ee919_row17_col1, #T_ee919_row17_col2, #T_ee919_row17_col3, #T_ee919_row17_col4, #T_ee919_row17_col5, #T_ee919_row17_col6, #T_ee919_row18_col0, #T_ee919_row18_col1, #T_ee919_row18_col2, #T_ee919_row18_col3, #T_ee919_row18_col4, #T_ee919_row18_col5, #T_ee919_row18_col6, #T_ee919_row19_col0, #T_ee919_row19_col1, #T_ee919_row19_col2, #T_ee919_row19_col3, #T_ee919_row19_col4, #T_ee919_row19_col5, #T_ee919_row19_col6 {\n",
              "  text-align: left;\n",
              "}\n",
              "#T_ee919_row0_col1, #T_ee919_row0_col2, #T_ee919_row0_col3, #T_ee919_row0_col4, #T_ee919_row0_col6, #T_ee919_row4_col5 {\n",
              "  text-align: left;\n",
              "  background-color: yellow;\n",
              "}\n",
              "#T_ee919_row0_col7, #T_ee919_row1_col7, #T_ee919_row2_col7, #T_ee919_row3_col7, #T_ee919_row4_col7, #T_ee919_row5_col7, #T_ee919_row6_col7, #T_ee919_row7_col7, #T_ee919_row8_col7, #T_ee919_row9_col7, #T_ee919_row10_col7, #T_ee919_row11_col7, #T_ee919_row12_col7, #T_ee919_row13_col7, #T_ee919_row14_col7, #T_ee919_row15_col7, #T_ee919_row16_col7, #T_ee919_row18_col7, #T_ee919_row19_col7 {\n",
              "  text-align: left;\n",
              "  background-color: lightgrey;\n",
              "}\n",
              "#T_ee919_row17_col7 {\n",
              "  text-align: left;\n",
              "  background-color: yellow;\n",
              "  background-color: lightgrey;\n",
              "}\n",
              "</style>\n",
              "<table id=\"T_ee919\" class=\"dataframe\">\n",
              "  <thead>\n",
              "    <tr>\n",
              "      <th class=\"blank level0\" >&nbsp;</th>\n",
              "      <th id=\"T_ee919_level0_col0\" class=\"col_heading level0 col0\" >Model</th>\n",
              "      <th id=\"T_ee919_level0_col1\" class=\"col_heading level0 col1\" >MAE</th>\n",
              "      <th id=\"T_ee919_level0_col2\" class=\"col_heading level0 col2\" >MSE</th>\n",
              "      <th id=\"T_ee919_level0_col3\" class=\"col_heading level0 col3\" >RMSE</th>\n",
              "      <th id=\"T_ee919_level0_col4\" class=\"col_heading level0 col4\" >R2</th>\n",
              "      <th id=\"T_ee919_level0_col5\" class=\"col_heading level0 col5\" >RMSLE</th>\n",
              "      <th id=\"T_ee919_level0_col6\" class=\"col_heading level0 col6\" >MAPE</th>\n",
              "      <th id=\"T_ee919_level0_col7\" class=\"col_heading level0 col7\" >TT (Sec)</th>\n",
              "    </tr>\n",
              "  </thead>\n",
              "  <tbody>\n",
              "    <tr>\n",
              "      <th id=\"T_ee919_level0_row0\" class=\"row_heading level0 row0\" >gbr</th>\n",
              "      <td id=\"T_ee919_row0_col0\" class=\"data row0 col0\" >Gradient Boosting Regressor</td>\n",
              "      <td id=\"T_ee919_row0_col1\" class=\"data row0 col1\" >2.6993</td>\n",
              "      <td id=\"T_ee919_row0_col2\" class=\"data row0 col2\" >11.6540</td>\n",
              "      <td id=\"T_ee919_row0_col3\" class=\"data row0 col3\" >3.4027</td>\n",
              "      <td id=\"T_ee919_row0_col4\" class=\"data row0 col4\" >0.9999</td>\n",
              "      <td id=\"T_ee919_row0_col5\" class=\"data row0 col5\" >0.0494</td>\n",
              "      <td id=\"T_ee919_row0_col6\" class=\"data row0 col6\" >0.0223</td>\n",
              "      <td id=\"T_ee919_row0_col7\" class=\"data row0 col7\" >0.2360</td>\n",
              "    </tr>\n",
              "    <tr>\n",
              "      <th id=\"T_ee919_level0_row1\" class=\"row_heading level0 row1\" >rf</th>\n",
              "      <td id=\"T_ee919_row1_col0\" class=\"data row1 col0\" >Random Forest Regressor</td>\n",
              "      <td id=\"T_ee919_row1_col1\" class=\"data row1 col1\" >2.7060</td>\n",
              "      <td id=\"T_ee919_row1_col2\" class=\"data row1 col2\" >12.5270</td>\n",
              "      <td id=\"T_ee919_row1_col3\" class=\"data row1 col3\" >3.5358</td>\n",
              "      <td id=\"T_ee919_row1_col4\" class=\"data row1 col4\" >0.9998</td>\n",
              "      <td id=\"T_ee919_row1_col5\" class=\"data row1 col5\" >0.0559</td>\n",
              "      <td id=\"T_ee919_row1_col6\" class=\"data row1 col6\" >0.0271</td>\n",
              "      <td id=\"T_ee919_row1_col7\" class=\"data row1 col7\" >0.6600</td>\n",
              "    </tr>\n",
              "    <tr>\n",
              "      <th id=\"T_ee919_level0_row2\" class=\"row_heading level0 row2\" >lightgbm</th>\n",
              "      <td id=\"T_ee919_row2_col0\" class=\"data row2 col0\" >Light Gradient Boosting Machine</td>\n",
              "      <td id=\"T_ee919_row2_col1\" class=\"data row2 col1\" >3.5267</td>\n",
              "      <td id=\"T_ee919_row2_col2\" class=\"data row2 col2\" >26.3005</td>\n",
              "      <td id=\"T_ee919_row2_col3\" class=\"data row2 col3\" >5.0826</td>\n",
              "      <td id=\"T_ee919_row2_col4\" class=\"data row2 col4\" >0.9997</td>\n",
              "      <td id=\"T_ee919_row2_col5\" class=\"data row2 col5\" >0.1300</td>\n",
              "      <td id=\"T_ee919_row2_col6\" class=\"data row2 col6\" >0.0788</td>\n",
              "      <td id=\"T_ee919_row2_col7\" class=\"data row2 col7\" >0.1500</td>\n",
              "    </tr>\n",
              "    <tr>\n",
              "      <th id=\"T_ee919_level0_row3\" class=\"row_heading level0 row3\" >dt</th>\n",
              "      <td id=\"T_ee919_row3_col0\" class=\"data row3 col0\" >Decision Tree Regressor</td>\n",
              "      <td id=\"T_ee919_row3_col1\" class=\"data row3 col1\" >3.7829</td>\n",
              "      <td id=\"T_ee919_row3_col2\" class=\"data row3 col2\" >23.3493</td>\n",
              "      <td id=\"T_ee919_row3_col3\" class=\"data row3 col3\" >4.8258</td>\n",
              "      <td id=\"T_ee919_row3_col4\" class=\"data row3 col4\" >0.9997</td>\n",
              "      <td id=\"T_ee919_row3_col5\" class=\"data row3 col5\" >0.0493</td>\n",
              "      <td id=\"T_ee919_row3_col6\" class=\"data row3 col6\" >0.0225</td>\n",
              "      <td id=\"T_ee919_row3_col7\" class=\"data row3 col7\" >0.0600</td>\n",
              "    </tr>\n",
              "    <tr>\n",
              "      <th id=\"T_ee919_level0_row4\" class=\"row_heading level0 row4\" >xgboost</th>\n",
              "      <td id=\"T_ee919_row4_col0\" class=\"data row4 col0\" >Extreme Gradient Boosting</td>\n",
              "      <td id=\"T_ee919_row4_col1\" class=\"data row4 col1\" >4.3398</td>\n",
              "      <td id=\"T_ee919_row4_col2\" class=\"data row4 col2\" >32.2744</td>\n",
              "      <td id=\"T_ee919_row4_col3\" class=\"data row4 col3\" >5.6663</td>\n",
              "      <td id=\"T_ee919_row4_col4\" class=\"data row4 col4\" >0.9996</td>\n",
              "      <td id=\"T_ee919_row4_col5\" class=\"data row4 col5\" >0.0469</td>\n",
              "      <td id=\"T_ee919_row4_col6\" class=\"data row4 col6\" >0.0243</td>\n",
              "      <td id=\"T_ee919_row4_col7\" class=\"data row4 col7\" >0.1620</td>\n",
              "    </tr>\n",
              "    <tr>\n",
              "      <th id=\"T_ee919_level0_row5\" class=\"row_heading level0 row5\" >et</th>\n",
              "      <td id=\"T_ee919_row5_col0\" class=\"data row5 col0\" >Extra Trees Regressor</td>\n",
              "      <td id=\"T_ee919_row5_col1\" class=\"data row5 col1\" >4.3583</td>\n",
              "      <td id=\"T_ee919_row5_col2\" class=\"data row5 col2\" >63.1336</td>\n",
              "      <td id=\"T_ee919_row5_col3\" class=\"data row5 col3\" >7.7474</td>\n",
              "      <td id=\"T_ee919_row5_col4\" class=\"data row5 col4\" >0.9992</td>\n",
              "      <td id=\"T_ee919_row5_col5\" class=\"data row5 col5\" >0.1196</td>\n",
              "      <td id=\"T_ee919_row5_col6\" class=\"data row5 col6\" >0.0621</td>\n",
              "      <td id=\"T_ee919_row5_col7\" class=\"data row5 col7\" >0.4480</td>\n",
              "    </tr>\n",
              "    <tr>\n",
              "      <th id=\"T_ee919_level0_row6\" class=\"row_heading level0 row6\" >catboost</th>\n",
              "      <td id=\"T_ee919_row6_col0\" class=\"data row6 col0\" >CatBoost Regressor</td>\n",
              "      <td id=\"T_ee919_row6_col1\" class=\"data row6 col1\" >7.1580</td>\n",
              "      <td id=\"T_ee919_row6_col2\" class=\"data row6 col2\" >123.8546</td>\n",
              "      <td id=\"T_ee919_row6_col3\" class=\"data row6 col3\" >11.0130</td>\n",
              "      <td id=\"T_ee919_row6_col4\" class=\"data row6 col4\" >0.9985</td>\n",
              "      <td id=\"T_ee919_row6_col5\" class=\"data row6 col5\" >0.1711</td>\n",
              "      <td id=\"T_ee919_row6_col6\" class=\"data row6 col6\" >0.1067</td>\n",
              "      <td id=\"T_ee919_row6_col7\" class=\"data row6 col7\" >3.7940</td>\n",
              "    </tr>\n",
              "    <tr>\n",
              "      <th id=\"T_ee919_level0_row7\" class=\"row_heading level0 row7\" >ada</th>\n",
              "      <td id=\"T_ee919_row7_col0\" class=\"data row7 col0\" >AdaBoost Regressor</td>\n",
              "      <td id=\"T_ee919_row7_col1\" class=\"data row7 col1\" >12.0782</td>\n",
              "      <td id=\"T_ee919_row7_col2\" class=\"data row7 col2\" >226.2267</td>\n",
              "      <td id=\"T_ee919_row7_col3\" class=\"data row7 col3\" >15.0070</td>\n",
              "      <td id=\"T_ee919_row7_col4\" class=\"data row7 col4\" >0.9972</td>\n",
              "      <td id=\"T_ee919_row7_col5\" class=\"data row7 col5\" >0.2450</td>\n",
              "      <td id=\"T_ee919_row7_col6\" class=\"data row7 col6\" >0.2156</td>\n",
              "      <td id=\"T_ee919_row7_col7\" class=\"data row7 col7\" >0.2780</td>\n",
              "    </tr>\n",
              "    <tr>\n",
              "      <th id=\"T_ee919_level0_row8\" class=\"row_heading level0 row8\" >knn</th>\n",
              "      <td id=\"T_ee919_row8_col0\" class=\"data row8 col0\" >K Neighbors Regressor</td>\n",
              "      <td id=\"T_ee919_row8_col1\" class=\"data row8 col1\" >198.4940</td>\n",
              "      <td id=\"T_ee919_row8_col2\" class=\"data row8 col2\" >59945.7845</td>\n",
              "      <td id=\"T_ee919_row8_col3\" class=\"data row8 col3\" >244.6694</td>\n",
              "      <td id=\"T_ee919_row8_col4\" class=\"data row8 col4\" >0.2614</td>\n",
              "      <td id=\"T_ee919_row8_col5\" class=\"data row8 col5\" >0.7493</td>\n",
              "      <td id=\"T_ee919_row8_col6\" class=\"data row8 col6\" >1.1369</td>\n",
              "      <td id=\"T_ee919_row8_col7\" class=\"data row8 col7\" >0.0560</td>\n",
              "    </tr>\n",
              "    <tr>\n",
              "      <th id=\"T_ee919_level0_row9\" class=\"row_heading level0 row9\" >br</th>\n",
              "      <td id=\"T_ee919_row9_col0\" class=\"data row9 col0\" >Bayesian Ridge</td>\n",
              "      <td id=\"T_ee919_row9_col1\" class=\"data row9 col1\" >193.8739</td>\n",
              "      <td id=\"T_ee919_row9_col2\" class=\"data row9 col2\" >66079.8436</td>\n",
              "      <td id=\"T_ee919_row9_col3\" class=\"data row9 col3\" >250.8300</td>\n",
              "      <td id=\"T_ee919_row9_col4\" class=\"data row9 col4\" >0.2015</td>\n",
              "      <td id=\"T_ee919_row9_col5\" class=\"data row9 col5\" >0.8653</td>\n",
              "      <td id=\"T_ee919_row9_col6\" class=\"data row9 col6\" >7.6562</td>\n",
              "      <td id=\"T_ee919_row9_col7\" class=\"data row9 col7\" >0.0460</td>\n",
              "    </tr>\n",
              "    <tr>\n",
              "      <th id=\"T_ee919_level0_row10\" class=\"row_heading level0 row10\" >en</th>\n",
              "      <td id=\"T_ee919_row10_col0\" class=\"data row10 col0\" >Elastic Net</td>\n",
              "      <td id=\"T_ee919_row10_col1\" class=\"data row10 col1\" >194.0821</td>\n",
              "      <td id=\"T_ee919_row10_col2\" class=\"data row10 col2\" >66375.7354</td>\n",
              "      <td id=\"T_ee919_row10_col3\" class=\"data row10 col3\" >251.6970</td>\n",
              "      <td id=\"T_ee919_row10_col4\" class=\"data row10 col4\" >0.1971</td>\n",
              "      <td id=\"T_ee919_row10_col5\" class=\"data row10 col5\" >0.8679</td>\n",
              "      <td id=\"T_ee919_row10_col6\" class=\"data row10 col6\" >7.6667</td>\n",
              "      <td id=\"T_ee919_row10_col7\" class=\"data row10 col7\" >0.0280</td>\n",
              "    </tr>\n",
              "    <tr>\n",
              "      <th id=\"T_ee919_level0_row11\" class=\"row_heading level0 row11\" >lasso</th>\n",
              "      <td id=\"T_ee919_row11_col0\" class=\"data row11 col0\" >Lasso Regression</td>\n",
              "      <td id=\"T_ee919_row11_col1\" class=\"data row11 col1\" >194.1088</td>\n",
              "      <td id=\"T_ee919_row11_col2\" class=\"data row11 col2\" >66396.9243</td>\n",
              "      <td id=\"T_ee919_row11_col3\" class=\"data row11 col3\" >251.7353</td>\n",
              "      <td id=\"T_ee919_row11_col4\" class=\"data row11 col4\" >0.1968</td>\n",
              "      <td id=\"T_ee919_row11_col5\" class=\"data row11 col5\" >0.8679</td>\n",
              "      <td id=\"T_ee919_row11_col6\" class=\"data row11 col6\" >7.6685</td>\n",
              "      <td id=\"T_ee919_row11_col7\" class=\"data row11 col7\" >0.0300</td>\n",
              "    </tr>\n",
              "    <tr>\n",
              "      <th id=\"T_ee919_level0_row12\" class=\"row_heading level0 row12\" >llar</th>\n",
              "      <td id=\"T_ee919_row12_col0\" class=\"data row12 col0\" >Lasso Least Angle Regression</td>\n",
              "      <td id=\"T_ee919_row12_col1\" class=\"data row12 col1\" >194.1088</td>\n",
              "      <td id=\"T_ee919_row12_col2\" class=\"data row12 col2\" >66396.9243</td>\n",
              "      <td id=\"T_ee919_row12_col3\" class=\"data row12 col3\" >251.7353</td>\n",
              "      <td id=\"T_ee919_row12_col4\" class=\"data row12 col4\" >0.1968</td>\n",
              "      <td id=\"T_ee919_row12_col5\" class=\"data row12 col5\" >0.8679</td>\n",
              "      <td id=\"T_ee919_row12_col6\" class=\"data row12 col6\" >7.6685</td>\n",
              "      <td id=\"T_ee919_row12_col7\" class=\"data row12 col7\" >0.0320</td>\n",
              "    </tr>\n",
              "    <tr>\n",
              "      <th id=\"T_ee919_level0_row13\" class=\"row_heading level0 row13\" >lr</th>\n",
              "      <td id=\"T_ee919_row13_col0\" class=\"data row13 col0\" >Linear Regression</td>\n",
              "      <td id=\"T_ee919_row13_col1\" class=\"data row13 col1\" >194.1558</td>\n",
              "      <td id=\"T_ee919_row13_col2\" class=\"data row13 col2\" >66426.2300</td>\n",
              "      <td id=\"T_ee919_row13_col3\" class=\"data row13 col3\" >251.8004</td>\n",
              "      <td id=\"T_ee919_row13_col4\" class=\"data row13 col4\" >0.1964</td>\n",
              "      <td id=\"T_ee919_row13_col5\" class=\"data row13 col5\" >0.8682</td>\n",
              "      <td id=\"T_ee919_row13_col6\" class=\"data row13 col6\" >7.6688</td>\n",
              "      <td id=\"T_ee919_row13_col7\" class=\"data row13 col7\" >1.1600</td>\n",
              "    </tr>\n",
              "    <tr>\n",
              "      <th id=\"T_ee919_level0_row14\" class=\"row_heading level0 row14\" >ridge</th>\n",
              "      <td id=\"T_ee919_row14_col0\" class=\"data row14 col0\" >Ridge Regression</td>\n",
              "      <td id=\"T_ee919_row14_col1\" class=\"data row14 col1\" >194.1556</td>\n",
              "      <td id=\"T_ee919_row14_col2\" class=\"data row14 col2\" >66426.0883</td>\n",
              "      <td id=\"T_ee919_row14_col3\" class=\"data row14 col3\" >251.8001</td>\n",
              "      <td id=\"T_ee919_row14_col4\" class=\"data row14 col4\" >0.1964</td>\n",
              "      <td id=\"T_ee919_row14_col5\" class=\"data row14 col5\" >0.8682</td>\n",
              "      <td id=\"T_ee919_row14_col6\" class=\"data row14 col6\" >7.6688</td>\n",
              "      <td id=\"T_ee919_row14_col7\" class=\"data row14 col7\" >0.0280</td>\n",
              "    </tr>\n",
              "    <tr>\n",
              "      <th id=\"T_ee919_level0_row15\" class=\"row_heading level0 row15\" >lar</th>\n",
              "      <td id=\"T_ee919_row15_col0\" class=\"data row15 col0\" >Least Angle Regression</td>\n",
              "      <td id=\"T_ee919_row15_col1\" class=\"data row15 col1\" >193.2313</td>\n",
              "      <td id=\"T_ee919_row15_col2\" class=\"data row15 col2\" >66703.3013</td>\n",
              "      <td id=\"T_ee919_row15_col3\" class=\"data row15 col3\" >252.3408</td>\n",
              "      <td id=\"T_ee919_row15_col4\" class=\"data row15 col4\" >0.1932</td>\n",
              "      <td id=\"T_ee919_row15_col5\" class=\"data row15 col5\" >0.8708</td>\n",
              "      <td id=\"T_ee919_row15_col6\" class=\"data row15 col6\" >7.7503</td>\n",
              "      <td id=\"T_ee919_row15_col7\" class=\"data row15 col7\" >0.0280</td>\n",
              "    </tr>\n",
              "    <tr>\n",
              "      <th id=\"T_ee919_level0_row16\" class=\"row_heading level0 row16\" >omp</th>\n",
              "      <td id=\"T_ee919_row16_col0\" class=\"data row16 col0\" >Orthogonal Matching Pursuit</td>\n",
              "      <td id=\"T_ee919_row16_col1\" class=\"data row16 col1\" >222.9720</td>\n",
              "      <td id=\"T_ee919_row16_col2\" class=\"data row16 col2\" >74999.4264</td>\n",
              "      <td id=\"T_ee919_row16_col3\" class=\"data row16 col3\" >271.6132</td>\n",
              "      <td id=\"T_ee919_row16_col4\" class=\"data row16 col4\" >0.0880</td>\n",
              "      <td id=\"T_ee919_row16_col5\" class=\"data row16 col5\" >0.9534</td>\n",
              "      <td id=\"T_ee919_row16_col6\" class=\"data row16 col6\" >6.1485</td>\n",
              "      <td id=\"T_ee919_row16_col7\" class=\"data row16 col7\" >0.0300</td>\n",
              "    </tr>\n",
              "    <tr>\n",
              "      <th id=\"T_ee919_level0_row17\" class=\"row_heading level0 row17\" >dummy</th>\n",
              "      <td id=\"T_ee919_row17_col0\" class=\"data row17 col0\" >Dummy Regressor</td>\n",
              "      <td id=\"T_ee919_row17_col1\" class=\"data row17 col1\" >248.1451</td>\n",
              "      <td id=\"T_ee919_row17_col2\" class=\"data row17 col2\" >82338.5793</td>\n",
              "      <td id=\"T_ee919_row17_col3\" class=\"data row17 col3\" >286.7569</td>\n",
              "      <td id=\"T_ee919_row17_col4\" class=\"data row17 col4\" >-0.0098</td>\n",
              "      <td id=\"T_ee919_row17_col5\" class=\"data row17 col5\" >1.0280</td>\n",
              "      <td id=\"T_ee919_row17_col6\" class=\"data row17 col6\" >3.4910</td>\n",
              "      <td id=\"T_ee919_row17_col7\" class=\"data row17 col7\" >0.0240</td>\n",
              "    </tr>\n",
              "    <tr>\n",
              "      <th id=\"T_ee919_level0_row18\" class=\"row_heading level0 row18\" >huber</th>\n",
              "      <td id=\"T_ee919_row18_col0\" class=\"data row18 col0\" >Huber Regressor</td>\n",
              "      <td id=\"T_ee919_row18_col1\" class=\"data row18 col1\" >408.2904</td>\n",
              "      <td id=\"T_ee919_row18_col2\" class=\"data row18 col2\" >259337.2532</td>\n",
              "      <td id=\"T_ee919_row18_col3\" class=\"data row18 col3\" >507.1722</td>\n",
              "      <td id=\"T_ee919_row18_col4\" class=\"data row18 col4\" >-2.1767</td>\n",
              "      <td id=\"T_ee919_row18_col5\" class=\"data row18 col5\" >1.5945</td>\n",
              "      <td id=\"T_ee919_row18_col6\" class=\"data row18 col6\" >10.4716</td>\n",
              "      <td id=\"T_ee919_row18_col7\" class=\"data row18 col7\" >0.0800</td>\n",
              "    </tr>\n",
              "    <tr>\n",
              "      <th id=\"T_ee919_level0_row19\" class=\"row_heading level0 row19\" >par</th>\n",
              "      <td id=\"T_ee919_row19_col0\" class=\"data row19 col0\" >Passive Aggressive Regressor</td>\n",
              "      <td id=\"T_ee919_row19_col1\" class=\"data row19 col1\" >1475.0413</td>\n",
              "      <td id=\"T_ee919_row19_col2\" class=\"data row19 col2\" >6781800.5135</td>\n",
              "      <td id=\"T_ee919_row19_col3\" class=\"data row19 col3\" >2168.2004</td>\n",
              "      <td id=\"T_ee919_row19_col4\" class=\"data row19 col4\" >-83.8652</td>\n",
              "      <td id=\"T_ee919_row19_col5\" class=\"data row19 col5\" >2.0331</td>\n",
              "      <td id=\"T_ee919_row19_col6\" class=\"data row19 col6\" >37.6634</td>\n",
              "      <td id=\"T_ee919_row19_col7\" class=\"data row19 col7\" >0.0580</td>\n",
              "    </tr>\n",
              "  </tbody>\n",
              "</table>\n"
            ]
          },
          "metadata": {}
        },
        {
          "output_type": "display_data",
          "data": {
            "text/plain": [
              "Processing:   0%|          | 0/85 [00:00<?, ?it/s]"
            ],
            "application/vnd.jupyter.widget-view+json": {
              "version_major": 2,
              "version_minor": 0,
              "model_id": "369df629732f42159346f490a078e1aa"
            }
          },
          "metadata": {
            "application/vnd.jupyter.widget-view+json": {
              "colab": {
                "custom_widget_manager": {
                  "url": "https://ssl.gstatic.com/colaboratory-static/widgets/colab-cdn-widget-manager/b3e629b1971e1542/manager.min.js"
                }
              }
            }
          }
        },
        {
          "output_type": "display_data",
          "data": {
            "text/plain": [
              "<IPython.core.display.HTML object>"
            ],
            "text/html": []
          },
          "metadata": {}
        }
      ]
    },
    {
      "cell_type": "markdown",
      "source": [
        "## Resultado do melhor modelo"
      ],
      "metadata": {
        "id": "F0X1WfBIeyoA"
      }
    },
    {
      "cell_type": "code",
      "source": [
        "best_model"
      ],
      "metadata": {
        "colab": {
          "base_uri": "https://localhost:8080/",
          "height": 74
        },
        "id": "lWl0Jbc-YDQ2",
        "outputId": "7cedf7f9-11b0-4c91-ef12-e7be296edc18"
      },
      "execution_count": 103,
      "outputs": [
        {
          "output_type": "execute_result",
          "data": {
            "text/plain": [
              "GradientBoostingRegressor(random_state=4969)"
            ],
            "text/html": [
              "<style>#sk-container-id-4 {color: black;background-color: white;}#sk-container-id-4 pre{padding: 0;}#sk-container-id-4 div.sk-toggleable {background-color: white;}#sk-container-id-4 label.sk-toggleable__label {cursor: pointer;display: block;width: 100%;margin-bottom: 0;padding: 0.3em;box-sizing: border-box;text-align: center;}#sk-container-id-4 label.sk-toggleable__label-arrow:before {content: \"▸\";float: left;margin-right: 0.25em;color: #696969;}#sk-container-id-4 label.sk-toggleable__label-arrow:hover:before {color: black;}#sk-container-id-4 div.sk-estimator:hover label.sk-toggleable__label-arrow:before {color: black;}#sk-container-id-4 div.sk-toggleable__content {max-height: 0;max-width: 0;overflow: hidden;text-align: left;background-color: #f0f8ff;}#sk-container-id-4 div.sk-toggleable__content pre {margin: 0.2em;color: black;border-radius: 0.25em;background-color: #f0f8ff;}#sk-container-id-4 input.sk-toggleable__control:checked~div.sk-toggleable__content {max-height: 200px;max-width: 100%;overflow: auto;}#sk-container-id-4 input.sk-toggleable__control:checked~label.sk-toggleable__label-arrow:before {content: \"▾\";}#sk-container-id-4 div.sk-estimator input.sk-toggleable__control:checked~label.sk-toggleable__label {background-color: #d4ebff;}#sk-container-id-4 div.sk-label input.sk-toggleable__control:checked~label.sk-toggleable__label {background-color: #d4ebff;}#sk-container-id-4 input.sk-hidden--visually {border: 0;clip: rect(1px 1px 1px 1px);clip: rect(1px, 1px, 1px, 1px);height: 1px;margin: -1px;overflow: hidden;padding: 0;position: absolute;width: 1px;}#sk-container-id-4 div.sk-estimator {font-family: monospace;background-color: #f0f8ff;border: 1px dotted black;border-radius: 0.25em;box-sizing: border-box;margin-bottom: 0.5em;}#sk-container-id-4 div.sk-estimator:hover {background-color: #d4ebff;}#sk-container-id-4 div.sk-parallel-item::after {content: \"\";width: 100%;border-bottom: 1px solid gray;flex-grow: 1;}#sk-container-id-4 div.sk-label:hover label.sk-toggleable__label {background-color: #d4ebff;}#sk-container-id-4 div.sk-serial::before {content: \"\";position: absolute;border-left: 1px solid gray;box-sizing: border-box;top: 0;bottom: 0;left: 50%;z-index: 0;}#sk-container-id-4 div.sk-serial {display: flex;flex-direction: column;align-items: center;background-color: white;padding-right: 0.2em;padding-left: 0.2em;position: relative;}#sk-container-id-4 div.sk-item {position: relative;z-index: 1;}#sk-container-id-4 div.sk-parallel {display: flex;align-items: stretch;justify-content: center;background-color: white;position: relative;}#sk-container-id-4 div.sk-item::before, #sk-container-id-4 div.sk-parallel-item::before {content: \"\";position: absolute;border-left: 1px solid gray;box-sizing: border-box;top: 0;bottom: 0;left: 50%;z-index: -1;}#sk-container-id-4 div.sk-parallel-item {display: flex;flex-direction: column;z-index: 1;position: relative;background-color: white;}#sk-container-id-4 div.sk-parallel-item:first-child::after {align-self: flex-end;width: 50%;}#sk-container-id-4 div.sk-parallel-item:last-child::after {align-self: flex-start;width: 50%;}#sk-container-id-4 div.sk-parallel-item:only-child::after {width: 0;}#sk-container-id-4 div.sk-dashed-wrapped {border: 1px dashed gray;margin: 0 0.4em 0.5em 0.4em;box-sizing: border-box;padding-bottom: 0.4em;background-color: white;}#sk-container-id-4 div.sk-label label {font-family: monospace;font-weight: bold;display: inline-block;line-height: 1.2em;}#sk-container-id-4 div.sk-label-container {text-align: center;}#sk-container-id-4 div.sk-container {/* jupyter's `normalize.less` sets `[hidden] { display: none; }` but bootstrap.min.css set `[hidden] { display: none !important; }` so we also need the `!important` here to be able to override the default hidden behavior on the sphinx rendered scikit-learn.org. See: https://github.com/scikit-learn/scikit-learn/issues/21755 */display: inline-block !important;position: relative;}#sk-container-id-4 div.sk-text-repr-fallback {display: none;}</style><div id=\"sk-container-id-4\" class=\"sk-top-container\"><div class=\"sk-text-repr-fallback\"><pre>GradientBoostingRegressor(random_state=4969)</pre><b>In a Jupyter environment, please rerun this cell to show the HTML representation or trust the notebook. <br />On GitHub, the HTML representation is unable to render, please try loading this page with nbviewer.org.</b></div><div class=\"sk-container\" hidden><div class=\"sk-item\"><div class=\"sk-estimator sk-toggleable\"><input class=\"sk-toggleable__control sk-hidden--visually\" id=\"sk-estimator-id-4\" type=\"checkbox\" checked><label for=\"sk-estimator-id-4\" class=\"sk-toggleable__label sk-toggleable__label-arrow\">GradientBoostingRegressor</label><div class=\"sk-toggleable__content\"><pre>GradientBoostingRegressor(random_state=4969)</pre></div></div></div></div></div>"
            ]
          },
          "metadata": {},
          "execution_count": 103
        }
      ]
    },
    {
      "cell_type": "markdown",
      "source": [
        "## Detalhamento do modelo"
      ],
      "metadata": {
        "id": "KmtucTwte3AX"
      }
    },
    {
      "cell_type": "code",
      "source": [
        "evaluate_model(best_model)"
      ],
      "metadata": {
        "colab": {
          "base_uri": "https://localhost:8080/",
          "height": 197,
          "referenced_widgets": [
            "3155c2a5671e44248b9da61071084bf1",
            "cf4d0695545a4e709c85edf0817904c1",
            "36803097b5cf49778fd49789125ab4fd",
            "c83476886f434ea8a6b5bd390cfd6e14",
            "67bc6888d25e4416a33efa1a305bf122",
            "5c42ae1e8a974bc5a5ba2c68e968de0a",
            "81ae12fc26764c898b08958fb1e1b240"
          ]
        },
        "id": "EyucHdEMYLHf",
        "outputId": "240d5e95-9418-4e73-e1ad-3fc3f9a536c3"
      },
      "execution_count": 104,
      "outputs": [
        {
          "output_type": "display_data",
          "data": {
            "text/plain": [
              "interactive(children=(ToggleButtons(description='Plot Type:', icons=('',), options=(('Pipeline Plot', 'pipelin…"
            ],
            "application/vnd.jupyter.widget-view+json": {
              "version_major": 2,
              "version_minor": 0,
              "model_id": "3155c2a5671e44248b9da61071084bf1"
            }
          },
          "metadata": {
            "application/vnd.jupyter.widget-view+json": {
              "colab": {
                "custom_widget_manager": {
                  "url": "https://ssl.gstatic.com/colaboratory-static/widgets/colab-cdn-widget-manager/b3e629b1971e1542/manager.min.js"
                }
              }
            }
          }
        }
      ]
    },
    {
      "cell_type": "markdown",
      "source": [
        "## Exportando o modelo"
      ],
      "metadata": {
        "id": "JvUV6RV_facE"
      }
    },
    {
      "cell_type": "code",
      "source": [
        "# Salvando o modelo\n",
        "save_model(best_model, 'model')"
      ],
      "metadata": {
        "colab": {
          "base_uri": "https://localhost:8080/"
        },
        "id": "MeWfQdYtatea",
        "outputId": "ac60ce0c-e8ec-4589-f73d-a2522a112bb6"
      },
      "execution_count": 105,
      "outputs": [
        {
          "output_type": "stream",
          "name": "stdout",
          "text": [
            "Transformation Pipeline and Model Successfully Saved\n"
          ]
        },
        {
          "output_type": "execute_result",
          "data": {
            "text/plain": [
              "(Pipeline(memory=Memory(location=None),\n",
              "          steps=[('numerical_imputer',\n",
              "                  TransformerWrapper(include=['subscribers', 'video_views',\n",
              "                                              'category', 'uploads', 'country',\n",
              "                                              'channel_type', 'video_views_rank',\n",
              "                                              'country_rank',\n",
              "                                              'channel_type_rank',\n",
              "                                              'video_views_last_30_days',\n",
              "                                              'subscribers_last_30_days'],\n",
              "                                     transformer=SimpleImputer())),\n",
              "                 ('categorical_imputer',\n",
              "                  TransformerWrapper(include=[],\n",
              "                                     transformer=SimpleImputer(strategy='most_frequent'))),\n",
              "                 ('trained_model',\n",
              "                  GradientBoostingRegressor(random_state=4969))]),\n",
              " 'model.pkl')"
            ]
          },
          "metadata": {},
          "execution_count": 105
        }
      ]
    },
    {
      "cell_type": "markdown",
      "source": [
        "## Criando a API do modelo"
      ],
      "metadata": {
        "id": "YpkVA6Fjff0f"
      }
    },
    {
      "cell_type": "code",
      "source": [
        "create_api(best_model, 'main')"
      ],
      "metadata": {
        "colab": {
          "base_uri": "https://localhost:8080/"
        },
        "id": "ugBXb1OrbhP0",
        "outputId": "8c48df44-8725-4527-fe84-35ee10376a08"
      },
      "execution_count": 106,
      "outputs": [
        {
          "output_type": "stream",
          "name": "stdout",
          "text": [
            "API successfully created. This function only creates a POST API, it doesn't run it automatically. To run your API, please run this command --> !python main.py\n"
          ]
        }
      ]
    }
  ]
}